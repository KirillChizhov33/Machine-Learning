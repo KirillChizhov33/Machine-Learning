{
 "cells": [
  {
   "cell_type": "code",
   "execution_count": 528,
   "id": "a8ea1f9d",
   "metadata": {},
   "outputs": [],
   "source": [
    "import numpy as np\n",
    "import matplotlib.pyplot as plt\n",
    "import pandas as pd\n",
    "%matplotlib inline"
   ]
  },
  {
   "cell_type": "code",
   "execution_count": 529,
   "id": "c5d75345",
   "metadata": {},
   "outputs": [],
   "source": [
    "url = \"https://raw.githubusercontent.com/KirillChizhov33/Machine-Learning/main/heart_disease_uci.csv\"\n",
    "X = pd.read_csv(url)"
   ]
  },
  {
   "cell_type": "code",
   "execution_count": 530,
   "id": "346a20de",
   "metadata": {},
   "outputs": [
    {
     "data": {
      "text/plain": [
       "(920, 16)"
      ]
     },
     "execution_count": 530,
     "metadata": {},
     "output_type": "execute_result"
    }
   ],
   "source": [
    "X.shape"
   ]
  },
  {
   "cell_type": "code",
   "execution_count": 531,
   "id": "35a80250",
   "metadata": {},
   "outputs": [
    {
     "data": {
      "text/html": [
       "<div>\n",
       "<style scoped>\n",
       "    .dataframe tbody tr th:only-of-type {\n",
       "        vertical-align: middle;\n",
       "    }\n",
       "\n",
       "    .dataframe tbody tr th {\n",
       "        vertical-align: top;\n",
       "    }\n",
       "\n",
       "    .dataframe thead th {\n",
       "        text-align: right;\n",
       "    }\n",
       "</style>\n",
       "<table border=\"1\" class=\"dataframe\">\n",
       "  <thead>\n",
       "    <tr style=\"text-align: right;\">\n",
       "      <th></th>\n",
       "      <th>id</th>\n",
       "      <th>age</th>\n",
       "      <th>sex</th>\n",
       "      <th>dataset</th>\n",
       "      <th>cp</th>\n",
       "      <th>trestbps</th>\n",
       "      <th>chol</th>\n",
       "      <th>fbs</th>\n",
       "      <th>restecg</th>\n",
       "      <th>thalch</th>\n",
       "      <th>exang</th>\n",
       "      <th>oldpeak</th>\n",
       "      <th>slope</th>\n",
       "      <th>ca</th>\n",
       "      <th>thal</th>\n",
       "      <th>num</th>\n",
       "    </tr>\n",
       "  </thead>\n",
       "  <tbody>\n",
       "    <tr>\n",
       "      <th>0</th>\n",
       "      <td>1</td>\n",
       "      <td>63</td>\n",
       "      <td>Male</td>\n",
       "      <td>Cleveland</td>\n",
       "      <td>typical angina</td>\n",
       "      <td>145.0</td>\n",
       "      <td>233.0</td>\n",
       "      <td>True</td>\n",
       "      <td>lv hypertrophy</td>\n",
       "      <td>150.0</td>\n",
       "      <td>False</td>\n",
       "      <td>2.3</td>\n",
       "      <td>downsloping</td>\n",
       "      <td>0.0</td>\n",
       "      <td>fixed defect</td>\n",
       "      <td>0</td>\n",
       "    </tr>\n",
       "    <tr>\n",
       "      <th>1</th>\n",
       "      <td>2</td>\n",
       "      <td>67</td>\n",
       "      <td>Male</td>\n",
       "      <td>Cleveland</td>\n",
       "      <td>asymptomatic</td>\n",
       "      <td>160.0</td>\n",
       "      <td>286.0</td>\n",
       "      <td>False</td>\n",
       "      <td>lv hypertrophy</td>\n",
       "      <td>108.0</td>\n",
       "      <td>True</td>\n",
       "      <td>1.5</td>\n",
       "      <td>flat</td>\n",
       "      <td>3.0</td>\n",
       "      <td>normal</td>\n",
       "      <td>2</td>\n",
       "    </tr>\n",
       "    <tr>\n",
       "      <th>2</th>\n",
       "      <td>3</td>\n",
       "      <td>67</td>\n",
       "      <td>Male</td>\n",
       "      <td>Cleveland</td>\n",
       "      <td>asymptomatic</td>\n",
       "      <td>120.0</td>\n",
       "      <td>229.0</td>\n",
       "      <td>False</td>\n",
       "      <td>lv hypertrophy</td>\n",
       "      <td>129.0</td>\n",
       "      <td>True</td>\n",
       "      <td>2.6</td>\n",
       "      <td>flat</td>\n",
       "      <td>2.0</td>\n",
       "      <td>reversable defect</td>\n",
       "      <td>1</td>\n",
       "    </tr>\n",
       "    <tr>\n",
       "      <th>3</th>\n",
       "      <td>4</td>\n",
       "      <td>37</td>\n",
       "      <td>Male</td>\n",
       "      <td>Cleveland</td>\n",
       "      <td>non-anginal</td>\n",
       "      <td>130.0</td>\n",
       "      <td>250.0</td>\n",
       "      <td>False</td>\n",
       "      <td>normal</td>\n",
       "      <td>187.0</td>\n",
       "      <td>False</td>\n",
       "      <td>3.5</td>\n",
       "      <td>downsloping</td>\n",
       "      <td>0.0</td>\n",
       "      <td>normal</td>\n",
       "      <td>0</td>\n",
       "    </tr>\n",
       "    <tr>\n",
       "      <th>4</th>\n",
       "      <td>5</td>\n",
       "      <td>41</td>\n",
       "      <td>Female</td>\n",
       "      <td>Cleveland</td>\n",
       "      <td>atypical angina</td>\n",
       "      <td>130.0</td>\n",
       "      <td>204.0</td>\n",
       "      <td>False</td>\n",
       "      <td>lv hypertrophy</td>\n",
       "      <td>172.0</td>\n",
       "      <td>False</td>\n",
       "      <td>1.4</td>\n",
       "      <td>upsloping</td>\n",
       "      <td>0.0</td>\n",
       "      <td>normal</td>\n",
       "      <td>0</td>\n",
       "    </tr>\n",
       "  </tbody>\n",
       "</table>\n",
       "</div>"
      ],
      "text/plain": [
       "   id  age     sex    dataset               cp  trestbps   chol    fbs  \\\n",
       "0   1   63    Male  Cleveland   typical angina     145.0  233.0   True   \n",
       "1   2   67    Male  Cleveland     asymptomatic     160.0  286.0  False   \n",
       "2   3   67    Male  Cleveland     asymptomatic     120.0  229.0  False   \n",
       "3   4   37    Male  Cleveland      non-anginal     130.0  250.0  False   \n",
       "4   5   41  Female  Cleveland  atypical angina     130.0  204.0  False   \n",
       "\n",
       "          restecg  thalch  exang  oldpeak        slope   ca  \\\n",
       "0  lv hypertrophy   150.0  False      2.3  downsloping  0.0   \n",
       "1  lv hypertrophy   108.0   True      1.5         flat  3.0   \n",
       "2  lv hypertrophy   129.0   True      2.6         flat  2.0   \n",
       "3          normal   187.0  False      3.5  downsloping  0.0   \n",
       "4  lv hypertrophy   172.0  False      1.4    upsloping  0.0   \n",
       "\n",
       "                thal  num  \n",
       "0       fixed defect    0  \n",
       "1             normal    2  \n",
       "2  reversable defect    1  \n",
       "3             normal    0  \n",
       "4             normal    0  "
      ]
     },
     "execution_count": 531,
     "metadata": {},
     "output_type": "execute_result"
    }
   ],
   "source": [
    "X.head()"
   ]
  },
  {
   "cell_type": "code",
   "execution_count": 532,
   "id": "10ae534c",
   "metadata": {},
   "outputs": [],
   "source": [
    "X.columns\n",
    "X = X.drop(['id'], axis=1)"
   ]
  },
  {
   "cell_type": "code",
   "execution_count": 533,
   "id": "1e499493",
   "metadata": {},
   "outputs": [
    {
     "name": "stdout",
     "output_type": "stream",
     "text": [
      "(920, 15)\n",
      "Index(['age', 'sex', 'dataset', 'cp', 'trestbps', 'chol', 'fbs', 'restecg',\n",
      "       'thalch', 'exang', 'oldpeak', 'slope', 'ca', 'thal', 'num'],\n",
      "      dtype='object')\n"
     ]
    }
   ],
   "source": [
    "print(X.shape)\n",
    "print(X.columns)"
   ]
  },
  {
   "cell_type": "code",
   "execution_count": 534,
   "id": "cf02ca65",
   "metadata": {},
   "outputs": [
    {
     "data": {
      "text/html": [
       "<div>\n",
       "<style scoped>\n",
       "    .dataframe tbody tr th:only-of-type {\n",
       "        vertical-align: middle;\n",
       "    }\n",
       "\n",
       "    .dataframe tbody tr th {\n",
       "        vertical-align: top;\n",
       "    }\n",
       "\n",
       "    .dataframe thead th {\n",
       "        text-align: right;\n",
       "    }\n",
       "</style>\n",
       "<table border=\"1\" class=\"dataframe\">\n",
       "  <thead>\n",
       "    <tr style=\"text-align: right;\">\n",
       "      <th></th>\n",
       "      <th>age</th>\n",
       "      <th>trestbps</th>\n",
       "      <th>chol</th>\n",
       "      <th>thalch</th>\n",
       "      <th>oldpeak</th>\n",
       "      <th>ca</th>\n",
       "      <th>num</th>\n",
       "    </tr>\n",
       "  </thead>\n",
       "  <tbody>\n",
       "    <tr>\n",
       "      <th>count</th>\n",
       "      <td>920.000000</td>\n",
       "      <td>861.000000</td>\n",
       "      <td>890.000000</td>\n",
       "      <td>865.000000</td>\n",
       "      <td>858.000000</td>\n",
       "      <td>309.000000</td>\n",
       "      <td>920.000000</td>\n",
       "    </tr>\n",
       "    <tr>\n",
       "      <th>mean</th>\n",
       "      <td>53.510870</td>\n",
       "      <td>132.132404</td>\n",
       "      <td>199.130337</td>\n",
       "      <td>137.545665</td>\n",
       "      <td>0.878788</td>\n",
       "      <td>0.676375</td>\n",
       "      <td>0.995652</td>\n",
       "    </tr>\n",
       "    <tr>\n",
       "      <th>std</th>\n",
       "      <td>9.424685</td>\n",
       "      <td>19.066070</td>\n",
       "      <td>110.780810</td>\n",
       "      <td>25.926276</td>\n",
       "      <td>1.091226</td>\n",
       "      <td>0.935653</td>\n",
       "      <td>1.142693</td>\n",
       "    </tr>\n",
       "    <tr>\n",
       "      <th>min</th>\n",
       "      <td>28.000000</td>\n",
       "      <td>0.000000</td>\n",
       "      <td>0.000000</td>\n",
       "      <td>60.000000</td>\n",
       "      <td>-2.600000</td>\n",
       "      <td>0.000000</td>\n",
       "      <td>0.000000</td>\n",
       "    </tr>\n",
       "    <tr>\n",
       "      <th>25%</th>\n",
       "      <td>47.000000</td>\n",
       "      <td>120.000000</td>\n",
       "      <td>175.000000</td>\n",
       "      <td>120.000000</td>\n",
       "      <td>0.000000</td>\n",
       "      <td>0.000000</td>\n",
       "      <td>0.000000</td>\n",
       "    </tr>\n",
       "    <tr>\n",
       "      <th>50%</th>\n",
       "      <td>54.000000</td>\n",
       "      <td>130.000000</td>\n",
       "      <td>223.000000</td>\n",
       "      <td>140.000000</td>\n",
       "      <td>0.500000</td>\n",
       "      <td>0.000000</td>\n",
       "      <td>1.000000</td>\n",
       "    </tr>\n",
       "    <tr>\n",
       "      <th>75%</th>\n",
       "      <td>60.000000</td>\n",
       "      <td>140.000000</td>\n",
       "      <td>268.000000</td>\n",
       "      <td>157.000000</td>\n",
       "      <td>1.500000</td>\n",
       "      <td>1.000000</td>\n",
       "      <td>2.000000</td>\n",
       "    </tr>\n",
       "    <tr>\n",
       "      <th>max</th>\n",
       "      <td>77.000000</td>\n",
       "      <td>200.000000</td>\n",
       "      <td>603.000000</td>\n",
       "      <td>202.000000</td>\n",
       "      <td>6.200000</td>\n",
       "      <td>3.000000</td>\n",
       "      <td>4.000000</td>\n",
       "    </tr>\n",
       "  </tbody>\n",
       "</table>\n",
       "</div>"
      ],
      "text/plain": [
       "              age    trestbps        chol      thalch     oldpeak          ca  \\\n",
       "count  920.000000  861.000000  890.000000  865.000000  858.000000  309.000000   \n",
       "mean    53.510870  132.132404  199.130337  137.545665    0.878788    0.676375   \n",
       "std      9.424685   19.066070  110.780810   25.926276    1.091226    0.935653   \n",
       "min     28.000000    0.000000    0.000000   60.000000   -2.600000    0.000000   \n",
       "25%     47.000000  120.000000  175.000000  120.000000    0.000000    0.000000   \n",
       "50%     54.000000  130.000000  223.000000  140.000000    0.500000    0.000000   \n",
       "75%     60.000000  140.000000  268.000000  157.000000    1.500000    1.000000   \n",
       "max     77.000000  200.000000  603.000000  202.000000    6.200000    3.000000   \n",
       "\n",
       "              num  \n",
       "count  920.000000  \n",
       "mean     0.995652  \n",
       "std      1.142693  \n",
       "min      0.000000  \n",
       "25%      0.000000  \n",
       "50%      1.000000  \n",
       "75%      2.000000  \n",
       "max      4.000000  "
      ]
     },
     "execution_count": 534,
     "metadata": {},
     "output_type": "execute_result"
    }
   ],
   "source": [
    "X.describe()"
   ]
  },
  {
   "cell_type": "code",
   "execution_count": 535,
   "id": "f5963a38",
   "metadata": {},
   "outputs": [
    {
     "data": {
      "image/png": "[encoded data removed]",
      "text/plain": [
       "<Figure size 720x720 with 49 Axes>"
      ]
     },
     "metadata": {
      "needs_background": "light"
     },
     "output_type": "display_data"
    }
   ],
   "source": [
    "from pandas.plotting import scatter_matrix\n",
    "scatter_matrix(X, alpha = .5, figsize = (10, 10))\n",
    "pass"
   ]
  },
  {
   "cell_type": "code",
   "execution_count": 536,
   "id": "2285ecb2",
   "metadata": {},
   "outputs": [
    {
     "data": {
      "text/html": [
       "<div>\n",
       "<style scoped>\n",
       "    .dataframe tbody tr th:only-of-type {\n",
       "        vertical-align: middle;\n",
       "    }\n",
       "\n",
       "    .dataframe tbody tr th {\n",
       "        vertical-align: top;\n",
       "    }\n",
       "\n",
       "    .dataframe thead th {\n",
       "        text-align: right;\n",
       "    }\n",
       "</style>\n",
       "<table border=\"1\" class=\"dataframe\">\n",
       "  <thead>\n",
       "    <tr style=\"text-align: right;\">\n",
       "      <th></th>\n",
       "      <th>age</th>\n",
       "      <th>trestbps</th>\n",
       "      <th>chol</th>\n",
       "      <th>thalch</th>\n",
       "      <th>oldpeak</th>\n",
       "      <th>ca</th>\n",
       "      <th>num</th>\n",
       "    </tr>\n",
       "  </thead>\n",
       "  <tbody>\n",
       "    <tr>\n",
       "      <th>age</th>\n",
       "      <td>1.000000</td>\n",
       "      <td>0.244253</td>\n",
       "      <td>-0.086234</td>\n",
       "      <td>-0.365778</td>\n",
       "      <td>0.258243</td>\n",
       "      <td>0.370416</td>\n",
       "      <td>0.339596</td>\n",
       "    </tr>\n",
       "    <tr>\n",
       "      <th>trestbps</th>\n",
       "      <td>0.244253</td>\n",
       "      <td>1.000000</td>\n",
       "      <td>0.092853</td>\n",
       "      <td>-0.104899</td>\n",
       "      <td>0.161908</td>\n",
       "      <td>0.093705</td>\n",
       "      <td>0.122291</td>\n",
       "    </tr>\n",
       "    <tr>\n",
       "      <th>chol</th>\n",
       "      <td>-0.086234</td>\n",
       "      <td>0.092853</td>\n",
       "      <td>1.000000</td>\n",
       "      <td>0.236121</td>\n",
       "      <td>0.047734</td>\n",
       "      <td>0.051606</td>\n",
       "      <td>-0.231547</td>\n",
       "    </tr>\n",
       "    <tr>\n",
       "      <th>thalch</th>\n",
       "      <td>-0.365778</td>\n",
       "      <td>-0.104899</td>\n",
       "      <td>0.236121</td>\n",
       "      <td>1.000000</td>\n",
       "      <td>-0.151174</td>\n",
       "      <td>-0.264094</td>\n",
       "      <td>-0.366265</td>\n",
       "    </tr>\n",
       "    <tr>\n",
       "      <th>oldpeak</th>\n",
       "      <td>0.258243</td>\n",
       "      <td>0.161908</td>\n",
       "      <td>0.047734</td>\n",
       "      <td>-0.151174</td>\n",
       "      <td>1.000000</td>\n",
       "      <td>0.281817</td>\n",
       "      <td>0.443084</td>\n",
       "    </tr>\n",
       "    <tr>\n",
       "      <th>ca</th>\n",
       "      <td>0.370416</td>\n",
       "      <td>0.093705</td>\n",
       "      <td>0.051606</td>\n",
       "      <td>-0.264094</td>\n",
       "      <td>0.281817</td>\n",
       "      <td>1.000000</td>\n",
       "      <td>0.516216</td>\n",
       "    </tr>\n",
       "    <tr>\n",
       "      <th>num</th>\n",
       "      <td>0.339596</td>\n",
       "      <td>0.122291</td>\n",
       "      <td>-0.231547</td>\n",
       "      <td>-0.366265</td>\n",
       "      <td>0.443084</td>\n",
       "      <td>0.516216</td>\n",
       "      <td>1.000000</td>\n",
       "    </tr>\n",
       "  </tbody>\n",
       "</table>\n",
       "</div>"
      ],
      "text/plain": [
       "               age  trestbps      chol    thalch   oldpeak        ca       num\n",
       "age       1.000000  0.244253 -0.086234 -0.365778  0.258243  0.370416  0.339596\n",
       "trestbps  0.244253  1.000000  0.092853 -0.104899  0.161908  0.093705  0.122291\n",
       "chol     -0.086234  0.092853  1.000000  0.236121  0.047734  0.051606 -0.231547\n",
       "thalch   -0.365778 -0.104899  0.236121  1.000000 -0.151174 -0.264094 -0.366265\n",
       "oldpeak   0.258243  0.161908  0.047734 -0.151174  1.000000  0.281817  0.443084\n",
       "ca        0.370416  0.093705  0.051606 -0.264094  0.281817  1.000000  0.516216\n",
       "num       0.339596  0.122291 -0.231547 -0.366265  0.443084  0.516216  1.000000"
      ]
     },
     "execution_count": 536,
     "metadata": {},
     "output_type": "execute_result"
    }
   ],
   "source": [
    "X.corr()"
   ]
  },
  {
   "cell_type": "code",
   "execution_count": 537,
   "id": "2fe45d60",
   "metadata": {},
   "outputs": [
    {
     "data": {
      "text/plain": [
       "dtype('O')"
      ]
     },
     "execution_count": 537,
     "metadata": {},
     "output_type": "execute_result"
    }
   ],
   "source": [
    "X['sex'].dtype"
   ]
  },
  {
   "cell_type": "code",
   "execution_count": 538,
   "id": "dbc8be21",
   "metadata": {},
   "outputs": [],
   "source": [
    "X['sex'] = X['sex'].astype('category')\n",
    "X['dataset'] = X['dataset'].astype('category')\n",
    "X['cp'] = X['cp'].astype('category')\n",
    "X['fbs'] = X['fbs'].astype('category')\n",
    "X['restecg'] = X['restecg'].astype('category')\n",
    "X['exang'] = X['exang'].astype('category')\n",
    "X['slope'] = X['slope'].astype('category')\n",
    "X['thal'] = X['thal'].astype('category')"
   ]
  },
  {
   "cell_type": "code",
   "execution_count": 539,
   "id": "b8bc92a7",
   "metadata": {},
   "outputs": [
    {
     "data": {
      "text/html": [
       "<div>\n",
       "<style scoped>\n",
       "    .dataframe tbody tr th:only-of-type {\n",
       "        vertical-align: middle;\n",
       "    }\n",
       "\n",
       "    .dataframe tbody tr th {\n",
       "        vertical-align: top;\n",
       "    }\n",
       "\n",
       "    .dataframe thead th {\n",
       "        text-align: right;\n",
       "    }\n",
       "</style>\n",
       "<table border=\"1\" class=\"dataframe\">\n",
       "  <thead>\n",
       "    <tr style=\"text-align: right;\">\n",
       "      <th></th>\n",
       "      <th>sex</th>\n",
       "      <th>dataset</th>\n",
       "      <th>cp</th>\n",
       "      <th>fbs</th>\n",
       "      <th>restecg</th>\n",
       "      <th>exang</th>\n",
       "      <th>slope</th>\n",
       "      <th>thal</th>\n",
       "    </tr>\n",
       "  </thead>\n",
       "  <tbody>\n",
       "    <tr>\n",
       "      <th>count</th>\n",
       "      <td>920</td>\n",
       "      <td>920</td>\n",
       "      <td>920</td>\n",
       "      <td>830</td>\n",
       "      <td>918</td>\n",
       "      <td>865</td>\n",
       "      <td>611</td>\n",
       "      <td>434</td>\n",
       "    </tr>\n",
       "    <tr>\n",
       "      <th>unique</th>\n",
       "      <td>2</td>\n",
       "      <td>4</td>\n",
       "      <td>4</td>\n",
       "      <td>2</td>\n",
       "      <td>3</td>\n",
       "      <td>2</td>\n",
       "      <td>3</td>\n",
       "      <td>3</td>\n",
       "    </tr>\n",
       "    <tr>\n",
       "      <th>top</th>\n",
       "      <td>Male</td>\n",
       "      <td>Cleveland</td>\n",
       "      <td>asymptomatic</td>\n",
       "      <td>False</td>\n",
       "      <td>normal</td>\n",
       "      <td>False</td>\n",
       "      <td>flat</td>\n",
       "      <td>normal</td>\n",
       "    </tr>\n",
       "    <tr>\n",
       "      <th>freq</th>\n",
       "      <td>726</td>\n",
       "      <td>304</td>\n",
       "      <td>496</td>\n",
       "      <td>692</td>\n",
       "      <td>551</td>\n",
       "      <td>528</td>\n",
       "      <td>345</td>\n",
       "      <td>196</td>\n",
       "    </tr>\n",
       "  </tbody>\n",
       "</table>\n",
       "</div>"
      ],
      "text/plain": [
       "         sex    dataset            cp    fbs restecg  exang slope    thal\n",
       "count    920        920           920    830     918    865   611     434\n",
       "unique     2          4             4      2       3      2     3       3\n",
       "top     Male  Cleveland  asymptomatic  False  normal  False  flat  normal\n",
       "freq     726        304           496    692     551    528   345     196"
      ]
     },
     "execution_count": 539,
     "metadata": {},
     "output_type": "execute_result"
    }
   ],
   "source": [
    "X.describe(include=['category'])"
   ]
  },
  {
   "cell_type": "markdown",
   "id": "a11b5a30",
   "metadata": {},
   "source": [
    "Всего 16 признаков из которых 8 - категориальные и 8 - количественные"
   ]
  },
  {
   "cell_type": "markdown",
   "id": "2a40d3e2",
   "metadata": {},
   "source": [
    "Обработка пропущенных значений"
   ]
  },
  {
   "cell_type": "markdown",
   "id": "2c8890c3",
   "metadata": {},
   "source": [
    "Пропущенные значения в таблице представлены значениями NaN. Посмотрим, сколько пропущенных значений в каждом столбце матрицы"
   ]
  },
  {
   "cell_type": "code",
   "execution_count": 540,
   "id": "51356390",
   "metadata": {},
   "outputs": [
    {
     "data": {
      "text/plain": [
       "age           0\n",
       "sex           0\n",
       "dataset       0\n",
       "cp            0\n",
       "trestbps     59\n",
       "chol         30\n",
       "fbs          90\n",
       "restecg       2\n",
       "thalch       55\n",
       "exang        55\n",
       "oldpeak      62\n",
       "slope       309\n",
       "ca          611\n",
       "thal        486\n",
       "num           0\n",
       "dtype: int64"
      ]
     },
     "execution_count": 540,
     "metadata": {},
     "output_type": "execute_result"
    }
   ],
   "source": [
    "X.isna().sum()"
   ]
  },
  {
   "cell_type": "code",
   "execution_count": 541,
   "id": "146d8fbb",
   "metadata": {},
   "outputs": [],
   "source": [
    "X.fillna(X.median(axis = 0), axis=0 , inplace=True) #inplace = True, присвоить значенрие data прямо сейчас"
   ]
  },
  {
   "cell_type": "code",
   "execution_count": 542,
   "id": "22563124",
   "metadata": {},
   "outputs": [
    {
     "data": {
      "text/plain": [
       "age           0\n",
       "sex           0\n",
       "dataset       0\n",
       "cp            0\n",
       "trestbps      0\n",
       "chol          0\n",
       "fbs          90\n",
       "restecg       2\n",
       "thalch        0\n",
       "exang        55\n",
       "oldpeak       0\n",
       "slope       309\n",
       "ca            0\n",
       "thal        486\n",
       "num           0\n",
       "dtype: int64"
      ]
     },
     "execution_count": 542,
     "metadata": {},
     "output_type": "execute_result"
    }
   ],
   "source": [
    "X.isna().sum()"
   ]
  },
  {
   "cell_type": "code",
   "execution_count": 543,
   "id": "4c7a0977",
   "metadata": {},
   "outputs": [],
   "source": [
    "X['sex'].fillna(X['sex'].mode().iloc[0], inplace=True)\n",
    "X['dataset'].fillna(X['dataset'].mode().iloc[0], inplace=True)\n",
    "X['cp'].fillna(X['cp'].mode().iloc[0], inplace=True)\n",
    "X['fbs'].fillna(X['fbs'].mode().iloc[0], inplace=True)\n",
    "X['restecg'].fillna(X['restecg'].mode().iloc[0], inplace=True)\n",
    "X['exang'].fillna(X['exang'].mode().iloc[0], inplace=True)\n",
    "X['slope'].fillna(X['slope'].mode().iloc[0], inplace=True)\n",
    "X['thal'].fillna(X['thal'].mode().iloc[0], inplace=True)"
   ]
  },
  {
   "cell_type": "code",
   "execution_count": 544,
   "id": "de44a34f",
   "metadata": {},
   "outputs": [
    {
     "data": {
      "text/plain": [
       "age         0\n",
       "sex         0\n",
       "dataset     0\n",
       "cp          0\n",
       "trestbps    0\n",
       "chol        0\n",
       "fbs         0\n",
       "restecg     0\n",
       "thalch      0\n",
       "exang       0\n",
       "oldpeak     0\n",
       "slope       0\n",
       "ca          0\n",
       "thal        0\n",
       "num         0\n",
       "dtype: int64"
      ]
     },
     "execution_count": 544,
     "metadata": {},
     "output_type": "execute_result"
    }
   ],
   "source": [
    "X.isna().sum()"
   ]
  },
  {
   "cell_type": "markdown",
   "id": "99239308",
   "metadata": {},
   "source": [
    "Таким образом мы избравились от пропущенных значений"
   ]
  },
  {
   "cell_type": "code",
   "execution_count": 545,
   "id": "4ddf2649",
   "metadata": {},
   "outputs": [
    {
     "data": {
      "text/html": [
       "<div>\n",
       "<style scoped>\n",
       "    .dataframe tbody tr th:only-of-type {\n",
       "        vertical-align: middle;\n",
       "    }\n",
       "\n",
       "    .dataframe tbody tr th {\n",
       "        vertical-align: top;\n",
       "    }\n",
       "\n",
       "    .dataframe thead th {\n",
       "        text-align: right;\n",
       "    }\n",
       "</style>\n",
       "<table border=\"1\" class=\"dataframe\">\n",
       "  <thead>\n",
       "    <tr style=\"text-align: right;\">\n",
       "      <th></th>\n",
       "      <th>age</th>\n",
       "      <th>trestbps</th>\n",
       "      <th>chol</th>\n",
       "      <th>thalch</th>\n",
       "      <th>oldpeak</th>\n",
       "      <th>ca</th>\n",
       "      <th>num</th>\n",
       "    </tr>\n",
       "  </thead>\n",
       "  <tbody>\n",
       "    <tr>\n",
       "      <th>count</th>\n",
       "      <td>920.000000</td>\n",
       "      <td>920.000000</td>\n",
       "      <td>920.000000</td>\n",
       "      <td>920.000000</td>\n",
       "      <td>920.000000</td>\n",
       "      <td>920.000000</td>\n",
       "      <td>920.000000</td>\n",
       "    </tr>\n",
       "    <tr>\n",
       "      <th>mean</th>\n",
       "      <td>53.510870</td>\n",
       "      <td>131.995652</td>\n",
       "      <td>199.908696</td>\n",
       "      <td>137.692391</td>\n",
       "      <td>0.853261</td>\n",
       "      <td>0.227174</td>\n",
       "      <td>0.995652</td>\n",
       "    </tr>\n",
       "    <tr>\n",
       "      <th>std</th>\n",
       "      <td>9.424685</td>\n",
       "      <td>18.451300</td>\n",
       "      <td>109.040171</td>\n",
       "      <td>25.145235</td>\n",
       "      <td>1.058049</td>\n",
       "      <td>0.628936</td>\n",
       "      <td>1.142693</td>\n",
       "    </tr>\n",
       "    <tr>\n",
       "      <th>min</th>\n",
       "      <td>28.000000</td>\n",
       "      <td>0.000000</td>\n",
       "      <td>0.000000</td>\n",
       "      <td>60.000000</td>\n",
       "      <td>-2.600000</td>\n",
       "      <td>0.000000</td>\n",
       "      <td>0.000000</td>\n",
       "    </tr>\n",
       "    <tr>\n",
       "      <th>25%</th>\n",
       "      <td>47.000000</td>\n",
       "      <td>120.000000</td>\n",
       "      <td>177.750000</td>\n",
       "      <td>120.000000</td>\n",
       "      <td>0.000000</td>\n",
       "      <td>0.000000</td>\n",
       "      <td>0.000000</td>\n",
       "    </tr>\n",
       "    <tr>\n",
       "      <th>50%</th>\n",
       "      <td>54.000000</td>\n",
       "      <td>130.000000</td>\n",
       "      <td>223.000000</td>\n",
       "      <td>140.000000</td>\n",
       "      <td>0.500000</td>\n",
       "      <td>0.000000</td>\n",
       "      <td>1.000000</td>\n",
       "    </tr>\n",
       "    <tr>\n",
       "      <th>75%</th>\n",
       "      <td>60.000000</td>\n",
       "      <td>140.000000</td>\n",
       "      <td>267.000000</td>\n",
       "      <td>156.000000</td>\n",
       "      <td>1.500000</td>\n",
       "      <td>0.000000</td>\n",
       "      <td>2.000000</td>\n",
       "    </tr>\n",
       "    <tr>\n",
       "      <th>max</th>\n",
       "      <td>77.000000</td>\n",
       "      <td>200.000000</td>\n",
       "      <td>603.000000</td>\n",
       "      <td>202.000000</td>\n",
       "      <td>6.200000</td>\n",
       "      <td>3.000000</td>\n",
       "      <td>4.000000</td>\n",
       "    </tr>\n",
       "  </tbody>\n",
       "</table>\n",
       "</div>"
      ],
      "text/plain": [
       "              age    trestbps        chol      thalch     oldpeak          ca  \\\n",
       "count  920.000000  920.000000  920.000000  920.000000  920.000000  920.000000   \n",
       "mean    53.510870  131.995652  199.908696  137.692391    0.853261    0.227174   \n",
       "std      9.424685   18.451300  109.040171   25.145235    1.058049    0.628936   \n",
       "min     28.000000    0.000000    0.000000   60.000000   -2.600000    0.000000   \n",
       "25%     47.000000  120.000000  177.750000  120.000000    0.000000    0.000000   \n",
       "50%     54.000000  130.000000  223.000000  140.000000    0.500000    0.000000   \n",
       "75%     60.000000  140.000000  267.000000  156.000000    1.500000    0.000000   \n",
       "max     77.000000  200.000000  603.000000  202.000000    6.200000    3.000000   \n",
       "\n",
       "              num  \n",
       "count  920.000000  \n",
       "mean     0.995652  \n",
       "std      1.142693  \n",
       "min      0.000000  \n",
       "25%      0.000000  \n",
       "50%      1.000000  \n",
       "75%      2.000000  \n",
       "max      4.000000  "
      ]
     },
     "execution_count": 545,
     "metadata": {},
     "output_type": "execute_result"
    }
   ],
   "source": [
    "X.describe()"
   ]
  },
  {
   "cell_type": "markdown",
   "id": "1bb9e87e",
   "metadata": {},
   "source": [
    "Обработка категориальных признаков"
   ]
  },
  {
   "cell_type": "code",
   "execution_count": 546,
   "id": "74db46bf",
   "metadata": {},
   "outputs": [
    {
     "data": {
      "text/html": [
       "<div>\n",
       "<style scoped>\n",
       "    .dataframe tbody tr th:only-of-type {\n",
       "        vertical-align: middle;\n",
       "    }\n",
       "\n",
       "    .dataframe tbody tr th {\n",
       "        vertical-align: top;\n",
       "    }\n",
       "\n",
       "    .dataframe thead th {\n",
       "        text-align: right;\n",
       "    }\n",
       "</style>\n",
       "<table border=\"1\" class=\"dataframe\">\n",
       "  <thead>\n",
       "    <tr style=\"text-align: right;\">\n",
       "      <th></th>\n",
       "      <th>sex</th>\n",
       "      <th>dataset</th>\n",
       "      <th>cp</th>\n",
       "      <th>fbs</th>\n",
       "      <th>restecg</th>\n",
       "      <th>exang</th>\n",
       "      <th>slope</th>\n",
       "      <th>thal</th>\n",
       "    </tr>\n",
       "  </thead>\n",
       "  <tbody>\n",
       "    <tr>\n",
       "      <th>count</th>\n",
       "      <td>920</td>\n",
       "      <td>920</td>\n",
       "      <td>920</td>\n",
       "      <td>920</td>\n",
       "      <td>920</td>\n",
       "      <td>920</td>\n",
       "      <td>920</td>\n",
       "      <td>920</td>\n",
       "    </tr>\n",
       "    <tr>\n",
       "      <th>unique</th>\n",
       "      <td>2</td>\n",
       "      <td>4</td>\n",
       "      <td>4</td>\n",
       "      <td>2</td>\n",
       "      <td>3</td>\n",
       "      <td>2</td>\n",
       "      <td>3</td>\n",
       "      <td>3</td>\n",
       "    </tr>\n",
       "    <tr>\n",
       "      <th>top</th>\n",
       "      <td>Male</td>\n",
       "      <td>Cleveland</td>\n",
       "      <td>asymptomatic</td>\n",
       "      <td>False</td>\n",
       "      <td>normal</td>\n",
       "      <td>False</td>\n",
       "      <td>flat</td>\n",
       "      <td>normal</td>\n",
       "    </tr>\n",
       "    <tr>\n",
       "      <th>freq</th>\n",
       "      <td>726</td>\n",
       "      <td>304</td>\n",
       "      <td>496</td>\n",
       "      <td>782</td>\n",
       "      <td>553</td>\n",
       "      <td>583</td>\n",
       "      <td>654</td>\n",
       "      <td>682</td>\n",
       "    </tr>\n",
       "  </tbody>\n",
       "</table>\n",
       "</div>"
      ],
      "text/plain": [
       "         sex    dataset            cp    fbs restecg  exang slope    thal\n",
       "count    920        920           920    920     920    920   920     920\n",
       "unique     2          4             4      2       3      2     3       3\n",
       "top     Male  Cleveland  asymptomatic  False  normal  False  flat  normal\n",
       "freq     726        304           496    782     553    583   654     682"
      ]
     },
     "execution_count": 546,
     "metadata": {},
     "output_type": "execute_result"
    }
   ],
   "source": [
    "X.describe(include=['category'])"
   ]
  },
  {
   "cell_type": "code",
   "execution_count": 547,
   "id": "24113dc2",
   "metadata": {},
   "outputs": [],
   "source": [
    "X['sex'] = X['sex'].cat.codes\n",
    "X['fbs'] = X['fbs'].cat.codes\n",
    "X['exang'] = X['exang'].cat.codes"
   ]
  },
  {
   "cell_type": "code",
   "execution_count": 548,
   "id": "5f71f9fc",
   "metadata": {},
   "outputs": [
    {
     "data": {
      "text/html": [
       "<div>\n",
       "<style scoped>\n",
       "    .dataframe tbody tr th:only-of-type {\n",
       "        vertical-align: middle;\n",
       "    }\n",
       "\n",
       "    .dataframe tbody tr th {\n",
       "        vertical-align: top;\n",
       "    }\n",
       "\n",
       "    .dataframe thead th {\n",
       "        text-align: right;\n",
       "    }\n",
       "</style>\n",
       "<table border=\"1\" class=\"dataframe\">\n",
       "  <thead>\n",
       "    <tr style=\"text-align: right;\">\n",
       "      <th></th>\n",
       "      <th>dataset</th>\n",
       "      <th>cp</th>\n",
       "      <th>restecg</th>\n",
       "      <th>slope</th>\n",
       "      <th>thal</th>\n",
       "    </tr>\n",
       "  </thead>\n",
       "  <tbody>\n",
       "    <tr>\n",
       "      <th>count</th>\n",
       "      <td>920</td>\n",
       "      <td>920</td>\n",
       "      <td>920</td>\n",
       "      <td>920</td>\n",
       "      <td>920</td>\n",
       "    </tr>\n",
       "    <tr>\n",
       "      <th>unique</th>\n",
       "      <td>4</td>\n",
       "      <td>4</td>\n",
       "      <td>3</td>\n",
       "      <td>3</td>\n",
       "      <td>3</td>\n",
       "    </tr>\n",
       "    <tr>\n",
       "      <th>top</th>\n",
       "      <td>Cleveland</td>\n",
       "      <td>asymptomatic</td>\n",
       "      <td>normal</td>\n",
       "      <td>flat</td>\n",
       "      <td>normal</td>\n",
       "    </tr>\n",
       "    <tr>\n",
       "      <th>freq</th>\n",
       "      <td>304</td>\n",
       "      <td>496</td>\n",
       "      <td>553</td>\n",
       "      <td>654</td>\n",
       "      <td>682</td>\n",
       "    </tr>\n",
       "  </tbody>\n",
       "</table>\n",
       "</div>"
      ],
      "text/plain": [
       "          dataset            cp restecg slope    thal\n",
       "count         920           920     920   920     920\n",
       "unique          4             4       3     3       3\n",
       "top     Cleveland  asymptomatic  normal  flat  normal\n",
       "freq          304           496     553   654     682"
      ]
     },
     "execution_count": 548,
     "metadata": {},
     "output_type": "execute_result"
    }
   ],
   "source": [
    "X.describe(include=['category'])"
   ]
  },
  {
   "cell_type": "code",
   "execution_count": 549,
   "id": "df3eb02a",
   "metadata": {},
   "outputs": [
    {
     "data": {
      "text/html": [
       "<div>\n",
       "<style scoped>\n",
       "    .dataframe tbody tr th:only-of-type {\n",
       "        vertical-align: middle;\n",
       "    }\n",
       "\n",
       "    .dataframe tbody tr th {\n",
       "        vertical-align: top;\n",
       "    }\n",
       "\n",
       "    .dataframe thead th {\n",
       "        text-align: right;\n",
       "    }\n",
       "</style>\n",
       "<table border=\"1\" class=\"dataframe\">\n",
       "  <thead>\n",
       "    <tr style=\"text-align: right;\">\n",
       "      <th></th>\n",
       "      <th>age</th>\n",
       "      <th>sex</th>\n",
       "      <th>trestbps</th>\n",
       "      <th>chol</th>\n",
       "      <th>fbs</th>\n",
       "      <th>thalch</th>\n",
       "      <th>exang</th>\n",
       "      <th>oldpeak</th>\n",
       "      <th>ca</th>\n",
       "      <th>num</th>\n",
       "    </tr>\n",
       "  </thead>\n",
       "  <tbody>\n",
       "    <tr>\n",
       "      <th>count</th>\n",
       "      <td>920.000000</td>\n",
       "      <td>920.000000</td>\n",
       "      <td>920.000000</td>\n",
       "      <td>920.000000</td>\n",
       "      <td>920.000000</td>\n",
       "      <td>920.000000</td>\n",
       "      <td>920.000000</td>\n",
       "      <td>920.000000</td>\n",
       "      <td>920.000000</td>\n",
       "      <td>920.000000</td>\n",
       "    </tr>\n",
       "    <tr>\n",
       "      <th>mean</th>\n",
       "      <td>53.510870</td>\n",
       "      <td>0.789130</td>\n",
       "      <td>131.995652</td>\n",
       "      <td>199.908696</td>\n",
       "      <td>0.150000</td>\n",
       "      <td>137.692391</td>\n",
       "      <td>0.366304</td>\n",
       "      <td>0.853261</td>\n",
       "      <td>0.227174</td>\n",
       "      <td>0.995652</td>\n",
       "    </tr>\n",
       "    <tr>\n",
       "      <th>std</th>\n",
       "      <td>9.424685</td>\n",
       "      <td>0.408148</td>\n",
       "      <td>18.451300</td>\n",
       "      <td>109.040171</td>\n",
       "      <td>0.357266</td>\n",
       "      <td>25.145235</td>\n",
       "      <td>0.482056</td>\n",
       "      <td>1.058049</td>\n",
       "      <td>0.628936</td>\n",
       "      <td>1.142693</td>\n",
       "    </tr>\n",
       "    <tr>\n",
       "      <th>min</th>\n",
       "      <td>28.000000</td>\n",
       "      <td>0.000000</td>\n",
       "      <td>0.000000</td>\n",
       "      <td>0.000000</td>\n",
       "      <td>0.000000</td>\n",
       "      <td>60.000000</td>\n",
       "      <td>0.000000</td>\n",
       "      <td>-2.600000</td>\n",
       "      <td>0.000000</td>\n",
       "      <td>0.000000</td>\n",
       "    </tr>\n",
       "    <tr>\n",
       "      <th>25%</th>\n",
       "      <td>47.000000</td>\n",
       "      <td>1.000000</td>\n",
       "      <td>120.000000</td>\n",
       "      <td>177.750000</td>\n",
       "      <td>0.000000</td>\n",
       "      <td>120.000000</td>\n",
       "      <td>0.000000</td>\n",
       "      <td>0.000000</td>\n",
       "      <td>0.000000</td>\n",
       "      <td>0.000000</td>\n",
       "    </tr>\n",
       "    <tr>\n",
       "      <th>50%</th>\n",
       "      <td>54.000000</td>\n",
       "      <td>1.000000</td>\n",
       "      <td>130.000000</td>\n",
       "      <td>223.000000</td>\n",
       "      <td>0.000000</td>\n",
       "      <td>140.000000</td>\n",
       "      <td>0.000000</td>\n",
       "      <td>0.500000</td>\n",
       "      <td>0.000000</td>\n",
       "      <td>1.000000</td>\n",
       "    </tr>\n",
       "    <tr>\n",
       "      <th>75%</th>\n",
       "      <td>60.000000</td>\n",
       "      <td>1.000000</td>\n",
       "      <td>140.000000</td>\n",
       "      <td>267.000000</td>\n",
       "      <td>0.000000</td>\n",
       "      <td>156.000000</td>\n",
       "      <td>1.000000</td>\n",
       "      <td>1.500000</td>\n",
       "      <td>0.000000</td>\n",
       "      <td>2.000000</td>\n",
       "    </tr>\n",
       "    <tr>\n",
       "      <th>max</th>\n",
       "      <td>77.000000</td>\n",
       "      <td>1.000000</td>\n",
       "      <td>200.000000</td>\n",
       "      <td>603.000000</td>\n",
       "      <td>1.000000</td>\n",
       "      <td>202.000000</td>\n",
       "      <td>1.000000</td>\n",
       "      <td>6.200000</td>\n",
       "      <td>3.000000</td>\n",
       "      <td>4.000000</td>\n",
       "    </tr>\n",
       "  </tbody>\n",
       "</table>\n",
       "</div>"
      ],
      "text/plain": [
       "              age         sex    trestbps        chol         fbs      thalch  \\\n",
       "count  920.000000  920.000000  920.000000  920.000000  920.000000  920.000000   \n",
       "mean    53.510870    0.789130  131.995652  199.908696    0.150000  137.692391   \n",
       "std      9.424685    0.408148   18.451300  109.040171    0.357266   25.145235   \n",
       "min     28.000000    0.000000    0.000000    0.000000    0.000000   60.000000   \n",
       "25%     47.000000    1.000000  120.000000  177.750000    0.000000  120.000000   \n",
       "50%     54.000000    1.000000  130.000000  223.000000    0.000000  140.000000   \n",
       "75%     60.000000    1.000000  140.000000  267.000000    0.000000  156.000000   \n",
       "max     77.000000    1.000000  200.000000  603.000000    1.000000  202.000000   \n",
       "\n",
       "            exang     oldpeak          ca         num  \n",
       "count  920.000000  920.000000  920.000000  920.000000  \n",
       "mean     0.366304    0.853261    0.227174    0.995652  \n",
       "std      0.482056    1.058049    0.628936    1.142693  \n",
       "min      0.000000   -2.600000    0.000000    0.000000  \n",
       "25%      0.000000    0.000000    0.000000    0.000000  \n",
       "50%      0.000000    0.500000    0.000000    1.000000  \n",
       "75%      1.000000    1.500000    0.000000    2.000000  \n",
       "max      1.000000    6.200000    3.000000    4.000000  "
      ]
     },
     "execution_count": 549,
     "metadata": {},
     "output_type": "execute_result"
    }
   ],
   "source": [
    "X.describe()"
   ]
  },
  {
   "cell_type": "markdown",
   "id": "61d5bb00",
   "metadata": {},
   "source": [
    "Можем убедиться что 3 категориальных признака, принимающих 2 значения стали количественными. Например видно, что примерно 79% - мужчины, 21% - женщины"
   ]
  },
  {
   "cell_type": "code",
   "execution_count": 550,
   "id": "a07c47da",
   "metadata": {},
   "outputs": [],
   "source": [
    "X = X.drop(['dataset'], axis=1)"
   ]
  },
  {
   "cell_type": "markdown",
   "id": "a378f592",
   "metadata": {},
   "source": [
    "Избавимся от признака dataset"
   ]
  },
  {
   "cell_type": "code",
   "execution_count": 551,
   "id": "9e2c0d80",
   "metadata": {},
   "outputs": [],
   "source": [
    "cp_dummies = pd.get_dummies(X['cp'])\n",
    "restecg_dummies = pd.get_dummies(X['restecg'])\n",
    "slope_dummies = pd.get_dummies(X['slope'])\n",
    "thal_dummies = pd.get_dummies(X['thal'])"
   ]
  },
  {
   "cell_type": "code",
   "execution_count": 552,
   "id": "7b5192b0",
   "metadata": {},
   "outputs": [],
   "source": [
    "X = pd.concat((X, cp_dummies), axis=1)\n",
    "X = pd.concat((X, pd.get_dummies(X['restecg'])\n",
    "), axis=1)\n",
    "X = pd.concat((X, slope_dummies), axis=1)\n",
    "X = pd.concat((X, thal_dummies), axis=1)\n",
    "\n",
    "X = X.drop(['cp'], axis=1)\n",
    "X = X.drop(['restecg'], axis=1)\n",
    "X = X.drop(['slope'], axis=1)\n",
    "X = X.drop(['thal'], axis=1)"
   ]
  },
  {
   "cell_type": "code",
   "execution_count": 553,
   "id": "3191097d",
   "metadata": {},
   "outputs": [
    {
     "data": {
      "text/html": [
       "<div>\n",
       "<style scoped>\n",
       "    .dataframe tbody tr th:only-of-type {\n",
       "        vertical-align: middle;\n",
       "    }\n",
       "\n",
       "    .dataframe tbody tr th {\n",
       "        vertical-align: top;\n",
       "    }\n",
       "\n",
       "    .dataframe thead th {\n",
       "        text-align: right;\n",
       "    }\n",
       "</style>\n",
       "<table border=\"1\" class=\"dataframe\">\n",
       "  <thead>\n",
       "    <tr style=\"text-align: right;\">\n",
       "      <th></th>\n",
       "      <th>age</th>\n",
       "      <th>sex</th>\n",
       "      <th>trestbps</th>\n",
       "      <th>chol</th>\n",
       "      <th>fbs</th>\n",
       "      <th>thalch</th>\n",
       "      <th>exang</th>\n",
       "      <th>oldpeak</th>\n",
       "      <th>ca</th>\n",
       "      <th>num</th>\n",
       "      <th>...</th>\n",
       "      <th>typical angina</th>\n",
       "      <th>lv hypertrophy</th>\n",
       "      <th>normal</th>\n",
       "      <th>st-t abnormality</th>\n",
       "      <th>downsloping</th>\n",
       "      <th>flat</th>\n",
       "      <th>upsloping</th>\n",
       "      <th>fixed defect</th>\n",
       "      <th>normal</th>\n",
       "      <th>reversable defect</th>\n",
       "    </tr>\n",
       "  </thead>\n",
       "  <tbody>\n",
       "    <tr>\n",
       "      <th>0</th>\n",
       "      <td>63</td>\n",
       "      <td>1</td>\n",
       "      <td>145.0</td>\n",
       "      <td>233.0</td>\n",
       "      <td>1</td>\n",
       "      <td>150.0</td>\n",
       "      <td>0</td>\n",
       "      <td>2.3</td>\n",
       "      <td>0.0</td>\n",
       "      <td>0</td>\n",
       "      <td>...</td>\n",
       "      <td>1</td>\n",
       "      <td>1</td>\n",
       "      <td>0</td>\n",
       "      <td>0</td>\n",
       "      <td>1</td>\n",
       "      <td>0</td>\n",
       "      <td>0</td>\n",
       "      <td>1</td>\n",
       "      <td>0</td>\n",
       "      <td>0</td>\n",
       "    </tr>\n",
       "    <tr>\n",
       "      <th>1</th>\n",
       "      <td>67</td>\n",
       "      <td>1</td>\n",
       "      <td>160.0</td>\n",
       "      <td>286.0</td>\n",
       "      <td>0</td>\n",
       "      <td>108.0</td>\n",
       "      <td>1</td>\n",
       "      <td>1.5</td>\n",
       "      <td>3.0</td>\n",
       "      <td>2</td>\n",
       "      <td>...</td>\n",
       "      <td>0</td>\n",
       "      <td>1</td>\n",
       "      <td>0</td>\n",
       "      <td>0</td>\n",
       "      <td>0</td>\n",
       "      <td>1</td>\n",
       "      <td>0</td>\n",
       "      <td>0</td>\n",
       "      <td>1</td>\n",
       "      <td>0</td>\n",
       "    </tr>\n",
       "    <tr>\n",
       "      <th>2</th>\n",
       "      <td>67</td>\n",
       "      <td>1</td>\n",
       "      <td>120.0</td>\n",
       "      <td>229.0</td>\n",
       "      <td>0</td>\n",
       "      <td>129.0</td>\n",
       "      <td>1</td>\n",
       "      <td>2.6</td>\n",
       "      <td>2.0</td>\n",
       "      <td>1</td>\n",
       "      <td>...</td>\n",
       "      <td>0</td>\n",
       "      <td>1</td>\n",
       "      <td>0</td>\n",
       "      <td>0</td>\n",
       "      <td>0</td>\n",
       "      <td>1</td>\n",
       "      <td>0</td>\n",
       "      <td>0</td>\n",
       "      <td>0</td>\n",
       "      <td>1</td>\n",
       "    </tr>\n",
       "    <tr>\n",
       "      <th>3</th>\n",
       "      <td>37</td>\n",
       "      <td>1</td>\n",
       "      <td>130.0</td>\n",
       "      <td>250.0</td>\n",
       "      <td>0</td>\n",
       "      <td>187.0</td>\n",
       "      <td>0</td>\n",
       "      <td>3.5</td>\n",
       "      <td>0.0</td>\n",
       "      <td>0</td>\n",
       "      <td>...</td>\n",
       "      <td>0</td>\n",
       "      <td>0</td>\n",
       "      <td>1</td>\n",
       "      <td>0</td>\n",
       "      <td>1</td>\n",
       "      <td>0</td>\n",
       "      <td>0</td>\n",
       "      <td>0</td>\n",
       "      <td>1</td>\n",
       "      <td>0</td>\n",
       "    </tr>\n",
       "    <tr>\n",
       "      <th>4</th>\n",
       "      <td>41</td>\n",
       "      <td>0</td>\n",
       "      <td>130.0</td>\n",
       "      <td>204.0</td>\n",
       "      <td>0</td>\n",
       "      <td>172.0</td>\n",
       "      <td>0</td>\n",
       "      <td>1.4</td>\n",
       "      <td>0.0</td>\n",
       "      <td>0</td>\n",
       "      <td>...</td>\n",
       "      <td>0</td>\n",
       "      <td>1</td>\n",
       "      <td>0</td>\n",
       "      <td>0</td>\n",
       "      <td>0</td>\n",
       "      <td>0</td>\n",
       "      <td>1</td>\n",
       "      <td>0</td>\n",
       "      <td>1</td>\n",
       "      <td>0</td>\n",
       "    </tr>\n",
       "  </tbody>\n",
       "</table>\n",
       "<p>5 rows × 23 columns</p>\n",
       "</div>"
      ],
      "text/plain": [
       "   age  sex  trestbps   chol  fbs  thalch  exang  oldpeak   ca  num  ...  \\\n",
       "0   63    1     145.0  233.0    1   150.0      0      2.3  0.0    0  ...   \n",
       "1   67    1     160.0  286.0    0   108.0      1      1.5  3.0    2  ...   \n",
       "2   67    1     120.0  229.0    0   129.0      1      2.6  2.0    1  ...   \n",
       "3   37    1     130.0  250.0    0   187.0      0      3.5  0.0    0  ...   \n",
       "4   41    0     130.0  204.0    0   172.0      0      1.4  0.0    0  ...   \n",
       "\n",
       "   typical angina  lv hypertrophy  normal  st-t abnormality  downsloping  \\\n",
       "0               1               1       0                 0            1   \n",
       "1               0               1       0                 0            0   \n",
       "2               0               1       0                 0            0   \n",
       "3               0               0       1                 0            1   \n",
       "4               0               1       0                 0            0   \n",
       "\n",
       "   flat  upsloping  fixed defect  normal  reversable defect  \n",
       "0     0          0             1       0                  0  \n",
       "1     1          0             0       1                  0  \n",
       "2     1          0             0       0                  1  \n",
       "3     0          0             0       1                  0  \n",
       "4     0          1             0       1                  0  \n",
       "\n",
       "[5 rows x 23 columns]"
      ]
     },
     "execution_count": 553,
     "metadata": {},
     "output_type": "execute_result"
    }
   ],
   "source": [
    "X.head()"
   ]
  },
  {
   "cell_type": "code",
   "execution_count": 554,
   "id": "17d9e149",
   "metadata": {},
   "outputs": [
    {
     "data": {
      "text/plain": [
       "(920, 23)"
      ]
     },
     "execution_count": 554,
     "metadata": {},
     "output_type": "execute_result"
    }
   ],
   "source": [
    "X.shape"
   ]
  },
  {
   "cell_type": "markdown",
   "id": "7816fb0a",
   "metadata": {},
   "source": [
    "Нормализация количественных признаков. "
   ]
  },
  {
   "cell_type": "markdown",
   "id": "635cfcb4",
   "metadata": {},
   "source": [
    "Многие алгоритмы машинного обучения чувствительны к масштабированию данных. \n",
    "\n",
    "В этом случае количественные признаки полезно нормализовать. Это можно делать разными способами. Например, каждый количественный признак приведем к нулевому среднему и единичному среднеквадратичному отклонению:"
   ]
  },
  {
   "cell_type": "code",
   "execution_count": 555,
   "id": "01864e59",
   "metadata": {},
   "outputs": [
    {
     "data": {
      "text/html": [
       "<div>\n",
       "<style scoped>\n",
       "    .dataframe tbody tr th:only-of-type {\n",
       "        vertical-align: middle;\n",
       "    }\n",
       "\n",
       "    .dataframe tbody tr th {\n",
       "        vertical-align: top;\n",
       "    }\n",
       "\n",
       "    .dataframe thead th {\n",
       "        text-align: right;\n",
       "    }\n",
       "</style>\n",
       "<table border=\"1\" class=\"dataframe\">\n",
       "  <thead>\n",
       "    <tr style=\"text-align: right;\">\n",
       "      <th></th>\n",
       "      <th>age</th>\n",
       "      <th>sex</th>\n",
       "      <th>trestbps</th>\n",
       "      <th>chol</th>\n",
       "      <th>fbs</th>\n",
       "      <th>thalch</th>\n",
       "      <th>exang</th>\n",
       "      <th>oldpeak</th>\n",
       "      <th>ca</th>\n",
       "      <th>num</th>\n",
       "      <th>...</th>\n",
       "      <th>typical angina</th>\n",
       "      <th>lv hypertrophy</th>\n",
       "      <th>normal</th>\n",
       "      <th>st-t abnormality</th>\n",
       "      <th>downsloping</th>\n",
       "      <th>flat</th>\n",
       "      <th>upsloping</th>\n",
       "      <th>fixed defect</th>\n",
       "      <th>normal</th>\n",
       "      <th>reversable defect</th>\n",
       "    </tr>\n",
       "  </thead>\n",
       "  <tbody>\n",
       "    <tr>\n",
       "      <th>count</th>\n",
       "      <td>9.200000e+02</td>\n",
       "      <td>9.200000e+02</td>\n",
       "      <td>9.200000e+02</td>\n",
       "      <td>9.200000e+02</td>\n",
       "      <td>9.200000e+02</td>\n",
       "      <td>9.200000e+02</td>\n",
       "      <td>9.200000e+02</td>\n",
       "      <td>9.200000e+02</td>\n",
       "      <td>9.200000e+02</td>\n",
       "      <td>9.200000e+02</td>\n",
       "      <td>...</td>\n",
       "      <td>9.200000e+02</td>\n",
       "      <td>9.200000e+02</td>\n",
       "      <td>9.200000e+02</td>\n",
       "      <td>9.200000e+02</td>\n",
       "      <td>9.200000e+02</td>\n",
       "      <td>9.200000e+02</td>\n",
       "      <td>9.200000e+02</td>\n",
       "      <td>9.200000e+02</td>\n",
       "      <td>9.200000e+02</td>\n",
       "      <td>9.200000e+02</td>\n",
       "    </tr>\n",
       "    <tr>\n",
       "      <th>mean</th>\n",
       "      <td>1.320200e-16</td>\n",
       "      <td>-8.630777e-16</td>\n",
       "      <td>-1.255035e-17</td>\n",
       "      <td>1.305719e-15</td>\n",
       "      <td>-1.285626e-15</td>\n",
       "      <td>-1.170320e-15</td>\n",
       "      <td>7.508487e-16</td>\n",
       "      <td>-8.169793e-17</td>\n",
       "      <td>3.634170e-15</td>\n",
       "      <td>-1.731881e-15</td>\n",
       "      <td>...</td>\n",
       "      <td>7.958610e-17</td>\n",
       "      <td>-3.590365e-15</td>\n",
       "      <td>-6.289655e-16</td>\n",
       "      <td>-2.331589e-15</td>\n",
       "      <td>5.049101e-16</td>\n",
       "      <td>1.483837e-15</td>\n",
       "      <td>-1.646992e-15</td>\n",
       "      <td>-8.417180e-17</td>\n",
       "      <td>-1.151253e-16</td>\n",
       "      <td>-4.991177e-16</td>\n",
       "    </tr>\n",
       "    <tr>\n",
       "      <th>std</th>\n",
       "      <td>1.000000e+00</td>\n",
       "      <td>1.000000e+00</td>\n",
       "      <td>1.000000e+00</td>\n",
       "      <td>1.000000e+00</td>\n",
       "      <td>1.000000e+00</td>\n",
       "      <td>1.000000e+00</td>\n",
       "      <td>1.000000e+00</td>\n",
       "      <td>1.000000e+00</td>\n",
       "      <td>1.000000e+00</td>\n",
       "      <td>1.000000e+00</td>\n",
       "      <td>...</td>\n",
       "      <td>1.000000e+00</td>\n",
       "      <td>1.000000e+00</td>\n",
       "      <td>1.000000e+00</td>\n",
       "      <td>1.000000e+00</td>\n",
       "      <td>1.000000e+00</td>\n",
       "      <td>1.000000e+00</td>\n",
       "      <td>1.000000e+00</td>\n",
       "      <td>1.000000e+00</td>\n",
       "      <td>1.000000e+00</td>\n",
       "      <td>1.000000e+00</td>\n",
       "    </tr>\n",
       "    <tr>\n",
       "      <th>min</th>\n",
       "      <td>-2.706814e+00</td>\n",
       "      <td>-1.933443e+00</td>\n",
       "      <td>-7.153732e+00</td>\n",
       "      <td>-1.833349e+00</td>\n",
       "      <td>-4.198557e-01</td>\n",
       "      <td>-3.089746e+00</td>\n",
       "      <td>-7.598791e-01</td>\n",
       "      <td>-3.263801e+00</td>\n",
       "      <td>-3.612033e-01</td>\n",
       "      <td>-8.713205e-01</td>\n",
       "      <td>...</td>\n",
       "      <td>-2.292910e-01</td>\n",
       "      <td>-5.065091e-01</td>\n",
       "      <td>-1.226855e+00</td>\n",
       "      <td>-4.912259e-01</td>\n",
       "      <td>-2.709840e-01</td>\n",
       "      <td>-1.567155e+00</td>\n",
       "      <td>-5.318048e-01</td>\n",
       "      <td>-2.292910e-01</td>\n",
       "      <td>-1.691872e+00</td>\n",
       "      <td>-5.132734e-01</td>\n",
       "    </tr>\n",
       "    <tr>\n",
       "      <th>25%</th>\n",
       "      <td>-6.908315e-01</td>\n",
       "      <td>5.166500e-01</td>\n",
       "      <td>-6.501250e-01</td>\n",
       "      <td>-2.032159e-01</td>\n",
       "      <td>-4.198557e-01</td>\n",
       "      <td>-7.036081e-01</td>\n",
       "      <td>-7.598791e-01</td>\n",
       "      <td>-8.064476e-01</td>\n",
       "      <td>-3.612033e-01</td>\n",
       "      <td>-8.713205e-01</td>\n",
       "      <td>...</td>\n",
       "      <td>-2.292910e-01</td>\n",
       "      <td>-5.065091e-01</td>\n",
       "      <td>-1.226855e+00</td>\n",
       "      <td>-4.912259e-01</td>\n",
       "      <td>-2.709840e-01</td>\n",
       "      <td>-1.567155e+00</td>\n",
       "      <td>-5.318048e-01</td>\n",
       "      <td>-2.292910e-01</td>\n",
       "      <td>-1.691872e+00</td>\n",
       "      <td>-5.132734e-01</td>\n",
       "    </tr>\n",
       "    <tr>\n",
       "      <th>50%</th>\n",
       "      <td>5.189886e-02</td>\n",
       "      <td>5.166500e-01</td>\n",
       "      <td>-1.081578e-01</td>\n",
       "      <td>2.117688e-01</td>\n",
       "      <td>-4.198557e-01</td>\n",
       "      <td>9.177121e-02</td>\n",
       "      <td>-7.598791e-01</td>\n",
       "      <td>-3.338796e-01</td>\n",
       "      <td>-3.612033e-01</td>\n",
       "      <td>3.804893e-03</td>\n",
       "      <td>...</td>\n",
       "      <td>-2.292910e-01</td>\n",
       "      <td>-5.065091e-01</td>\n",
       "      <td>8.142060e-01</td>\n",
       "      <td>-4.912259e-01</td>\n",
       "      <td>-2.709840e-01</td>\n",
       "      <td>6.374055e-01</td>\n",
       "      <td>-5.318048e-01</td>\n",
       "      <td>-2.292910e-01</td>\n",
       "      <td>5.904187e-01</td>\n",
       "      <td>-5.132734e-01</td>\n",
       "    </tr>\n",
       "    <tr>\n",
       "      <th>75%</th>\n",
       "      <td>6.885249e-01</td>\n",
       "      <td>5.166500e-01</td>\n",
       "      <td>4.338094e-01</td>\n",
       "      <td>6.152898e-01</td>\n",
       "      <td>-4.198557e-01</td>\n",
       "      <td>7.280747e-01</td>\n",
       "      <td>1.314568e+00</td>\n",
       "      <td>6.112565e-01</td>\n",
       "      <td>-3.612033e-01</td>\n",
       "      <td>8.789303e-01</td>\n",
       "      <td>...</td>\n",
       "      <td>-2.292910e-01</td>\n",
       "      <td>-5.065091e-01</td>\n",
       "      <td>8.142060e-01</td>\n",
       "      <td>-4.912259e-01</td>\n",
       "      <td>-2.709840e-01</td>\n",
       "      <td>6.374055e-01</td>\n",
       "      <td>-5.318048e-01</td>\n",
       "      <td>-2.292910e-01</td>\n",
       "      <td>5.904187e-01</td>\n",
       "      <td>-5.132734e-01</td>\n",
       "    </tr>\n",
       "    <tr>\n",
       "      <th>max</th>\n",
       "      <td>2.492299e+00</td>\n",
       "      <td>5.166500e-01</td>\n",
       "      <td>3.685613e+00</td>\n",
       "      <td>3.696723e+00</td>\n",
       "      <td>2.379182e+00</td>\n",
       "      <td>2.557447e+00</td>\n",
       "      <td>1.314568e+00</td>\n",
       "      <td>5.053396e+00</td>\n",
       "      <td>4.408754e+00</td>\n",
       "      <td>2.629181e+00</td>\n",
       "      <td>...</td>\n",
       "      <td>4.356529e+00</td>\n",
       "      <td>1.972152e+00</td>\n",
       "      <td>8.142060e-01</td>\n",
       "      <td>2.033511e+00</td>\n",
       "      <td>3.686243e+00</td>\n",
       "      <td>6.374055e-01</td>\n",
       "      <td>1.878345e+00</td>\n",
       "      <td>4.356529e+00</td>\n",
       "      <td>5.904187e-01</td>\n",
       "      <td>1.946162e+00</td>\n",
       "    </tr>\n",
       "  </tbody>\n",
       "</table>\n",
       "<p>8 rows × 23 columns</p>\n",
       "</div>"
      ],
      "text/plain": [
       "                age           sex      trestbps          chol           fbs  \\\n",
       "count  9.200000e+02  9.200000e+02  9.200000e+02  9.200000e+02  9.200000e+02   \n",
       "mean   1.320200e-16 -8.630777e-16 -1.255035e-17  1.305719e-15 -1.285626e-15   \n",
       "std    1.000000e+00  1.000000e+00  1.000000e+00  1.000000e+00  1.000000e+00   \n",
       "min   -2.706814e+00 -1.933443e+00 -7.153732e+00 -1.833349e+00 -4.198557e-01   \n",
       "25%   -6.908315e-01  5.166500e-01 -6.501250e-01 -2.032159e-01 -4.198557e-01   \n",
       "50%    5.189886e-02  5.166500e-01 -1.081578e-01  2.117688e-01 -4.198557e-01   \n",
       "75%    6.885249e-01  5.166500e-01  4.338094e-01  6.152898e-01 -4.198557e-01   \n",
       "max    2.492299e+00  5.166500e-01  3.685613e+00  3.696723e+00  2.379182e+00   \n",
       "\n",
       "             thalch         exang       oldpeak            ca           num  \\\n",
       "count  9.200000e+02  9.200000e+02  9.200000e+02  9.200000e+02  9.200000e+02   \n",
       "mean  -1.170320e-15  7.508487e-16 -8.169793e-17  3.634170e-15 -1.731881e-15   \n",
       "std    1.000000e+00  1.000000e+00  1.000000e+00  1.000000e+00  1.000000e+00   \n",
       "min   -3.089746e+00 -7.598791e-01 -3.263801e+00 -3.612033e-01 -8.713205e-01   \n",
       "25%   -7.036081e-01 -7.598791e-01 -8.064476e-01 -3.612033e-01 -8.713205e-01   \n",
       "50%    9.177121e-02 -7.598791e-01 -3.338796e-01 -3.612033e-01  3.804893e-03   \n",
       "75%    7.280747e-01  1.314568e+00  6.112565e-01 -3.612033e-01  8.789303e-01   \n",
       "max    2.557447e+00  1.314568e+00  5.053396e+00  4.408754e+00  2.629181e+00   \n",
       "\n",
       "       ...  typical angina  lv hypertrophy        normal  st-t abnormality  \\\n",
       "count  ...    9.200000e+02    9.200000e+02  9.200000e+02      9.200000e+02   \n",
       "mean   ...    7.958610e-17   -3.590365e-15 -6.289655e-16     -2.331589e-15   \n",
       "std    ...    1.000000e+00    1.000000e+00  1.000000e+00      1.000000e+00   \n",
       "min    ...   -2.292910e-01   -5.065091e-01 -1.226855e+00     -4.912259e-01   \n",
       "25%    ...   -2.292910e-01   -5.065091e-01 -1.226855e+00     -4.912259e-01   \n",
       "50%    ...   -2.292910e-01   -5.065091e-01  8.142060e-01     -4.912259e-01   \n",
       "75%    ...   -2.292910e-01   -5.065091e-01  8.142060e-01     -4.912259e-01   \n",
       "max    ...    4.356529e+00    1.972152e+00  8.142060e-01      2.033511e+00   \n",
       "\n",
       "        downsloping          flat     upsloping  fixed defect        normal  \\\n",
       "count  9.200000e+02  9.200000e+02  9.200000e+02  9.200000e+02  9.200000e+02   \n",
       "mean   5.049101e-16  1.483837e-15 -1.646992e-15 -8.417180e-17 -1.151253e-16   \n",
       "std    1.000000e+00  1.000000e+00  1.000000e+00  1.000000e+00  1.000000e+00   \n",
       "min   -2.709840e-01 -1.567155e+00 -5.318048e-01 -2.292910e-01 -1.691872e+00   \n",
       "25%   -2.709840e-01 -1.567155e+00 -5.318048e-01 -2.292910e-01 -1.691872e+00   \n",
       "50%   -2.709840e-01  6.374055e-01 -5.318048e-01 -2.292910e-01  5.904187e-01   \n",
       "75%   -2.709840e-01  6.374055e-01 -5.318048e-01 -2.292910e-01  5.904187e-01   \n",
       "max    3.686243e+00  6.374055e-01  1.878345e+00  4.356529e+00  5.904187e-01   \n",
       "\n",
       "       reversable defect  \n",
       "count       9.200000e+02  \n",
       "mean       -4.991177e-16  \n",
       "std         1.000000e+00  \n",
       "min        -5.132734e-01  \n",
       "25%        -5.132734e-01  \n",
       "50%        -5.132734e-01  \n",
       "75%        -5.132734e-01  \n",
       "max         1.946162e+00  \n",
       "\n",
       "[8 rows x 23 columns]"
      ]
     },
     "execution_count": 555,
     "metadata": {},
     "output_type": "execute_result"
    }
   ],
   "source": [
    "X_stand = (X - X.mean(axis = 0))/X.std(axis = 0)\n",
    "X_stand.describe()"
   ]
  },
  {
   "cell_type": "code",
   "execution_count": 556,
   "id": "6dac3915",
   "metadata": {},
   "outputs": [
    {
     "data": {
      "text/plain": [
       "(920, 22)"
      ]
     },
     "execution_count": 556,
     "metadata": {},
     "output_type": "execute_result"
    }
   ],
   "source": [
    "Z = X_stand.drop(['num'], axis = 1) \n",
    "y = X['num']\n",
    "Z.shape"
   ]
  },
  {
   "cell_type": "code",
   "execution_count": 557,
   "id": "2bfbc2aa",
   "metadata": {},
   "outputs": [
    {
     "name": "stdout",
     "output_type": "stream",
     "text": [
      "(920, 22)\n",
      "(920,)\n"
     ]
    }
   ],
   "source": [
    "print(Z.shape)\n",
    "print(y.shape)\n",
    "N, d = Z.shape"
   ]
  },
  {
   "cell_type": "code",
   "execution_count": 558,
   "id": "b97ae875",
   "metadata": {},
   "outputs": [
    {
     "name": "stdout",
     "output_type": "stream",
     "text": [
      "644 276\n"
     ]
    }
   ],
   "source": [
    "from sklearn.model_selection import train_test_split\n",
    "X_train, X_test, y_train, y_test = train_test_split(Z, y, test_size = 0.3, random_state = 42)\n",
    "\n",
    "N_train, _ = X_train.shape \n",
    "N_test,  _ = X_test.shape \n",
    "\n",
    "print(N_train, N_test)"
   ]
  },
  {
   "cell_type": "markdown",
   "id": "1e5709a7",
   "metadata": {},
   "source": [
    "Нейронные сети\n"
   ]
  },
  {
   "cell_type": "code",
   "execution_count": 559,
   "id": "4b92a097",
   "metadata": {},
   "outputs": [],
   "source": [
    "from sklearn.neural_network import MLPClassifier\n",
    "\n",
    "mlp_model = MLPClassifier(hidden_layer_sizes = (30,),\n",
    "                          solver = 'lbfgs', \n",
    "                          activation = 'logistic',\n",
    "                          max_iter = 1000,\n",
    "                          random_state = 42)"
   ]
  },
  {
   "cell_type": "code",
   "execution_count": 560,
   "id": "cc95dcb9",
   "metadata": {},
   "outputs": [
    {
     "name": "stdout",
     "output_type": "stream",
     "text": [
      "Wall time: 233 ms\n"
     ]
    },
    {
     "data": {
      "text/plain": [
       "MLPClassifier(activation='logistic', hidden_layer_sizes=(30,), max_iter=1000,\n",
       "              random_state=42, solver='lbfgs')"
      ]
     },
     "execution_count": 560,
     "metadata": {},
     "output_type": "execute_result"
    }
   ],
   "source": [
    "%%time\n",
    "mlp_model.fit(X_train, y_train)"
   ]
  },
  {
   "cell_type": "code",
   "execution_count": 561,
   "id": "f3ab4356",
   "metadata": {},
   "outputs": [
    {
     "data": {
      "text/plain": [
       "((644, 22), (276, 22))"
      ]
     },
     "execution_count": 561,
     "metadata": {},
     "output_type": "execute_result"
    }
   ],
   "source": [
    "X_train.shape, X_test.shape"
   ]
  },
  {
   "cell_type": "code",
   "execution_count": 562,
   "id": "99169f61",
   "metadata": {},
   "outputs": [
    {
     "name": "stdout",
     "output_type": "stream",
     "text": [
      "Ошибка на X_train:  0.0031055900621117516\n",
      "Ошибка на X_test:  0.5072463768115942\n"
     ]
    }
   ],
   "source": [
    "from sklearn.metrics import accuracy_score\n",
    "y_train_pred = mlp_model.predict(X_train)\n",
    "y_test_pred = mlp_model.predict(X_test)\n",
    "print(\"Ошибка на X_train: \", 1-accuracy_score(y_train, y_train_pred))\n",
    "print(\"Ошибка на X_test: \", 1-accuracy_score(y_test, y_test_pred))"
   ]
  },
  {
   "cell_type": "markdown",
   "id": "44778a21",
   "metadata": {},
   "source": [
    "Графики ошибок от альфа"
   ]
  },
  {
   "cell_type": "code",
   "execution_count": 563,
   "id": "b852e086",
   "metadata": {},
   "outputs": [
    {
     "data": {
      "text/plain": [
       "<matplotlib.legend.Legend at 0x24761c3be50>"
      ]
     },
     "execution_count": 563,
     "metadata": {},
     "output_type": "execute_result"
    },
    {
     "data": {
      "image/png": "[encoded data removed]",
      "text/plain": [
       "<Figure size 432x288 with 1 Axes>"
      ]
     },
     "metadata": {
      "needs_background": "light"
     },
     "output_type": "display_data"
    }
   ],
   "source": [
    "alpha_arr = np.logspace(-2, 4, 21)\n",
    "test_err = []\n",
    "train_err = []\n",
    "train_acc = []\n",
    "test_acc = []\n",
    "\n",
    "for my_alpha in alpha_arr:\n",
    "    mlp_model = MLPClassifier(alpha = my_alpha, hidden_layer_sizes = (30,), \n",
    "                              solver = 'lbfgs', activation = 'logistic', max_iter=1000, random_state = 42)\n",
    "    mlp_model.fit(X_train, y_train)\n",
    "\n",
    "    y_train_pred = mlp_model.predict(X_train)\n",
    "    y_test_pred = mlp_model.predict(X_test)\n",
    "    \n",
    "    train_err.append(np.mean(y_train != y_train_pred))\n",
    "    test_err.append(np.mean(y_test != y_test_pred))\n",
    "    train_acc.append(accuracy_score(y_train, y_train_pred))\n",
    "    test_acc.append(accuracy_score(y_test, y_test_pred))\n",
    "plt.semilogx(alpha_arr, train_err, 'r-o', label = 'train')\n",
    "plt.semilogx(alpha_arr, test_err, 'b-o', label = 'test')\n",
    "plt.xlim([np.min(alpha_arr), np.max(alpha_arr)])\n",
    "plt.title('Зависимость ощибки от альфа')\n",
    "plt.xlabel('alpha')\n",
    "plt.ylabel('error')\n",
    "plt.legend()"
   ]
  },
  {
   "cell_type": "code",
   "execution_count": 564,
   "id": "5baac695",
   "metadata": {},
   "outputs": [
    {
     "name": "stdout",
     "output_type": "stream",
     "text": [
      "Минимальная ошибка на X_train:  0.0\n",
      "Максимальная ошибка на X_test:  0.4420289855072464\n"
     ]
    }
   ],
   "source": [
    "minimum_train_err = np.min(train_err)\n",
    "minimum_test_err = np.min(test_err)\n",
    "print(\"Минимальная ошибка на X_train: \", minimum_train_err)\n",
    "print(\"Максимальная ошибка на X_test: \", minimum_test_err)"
   ]
  },
  {
   "cell_type": "markdown",
   "id": "e69e7db6",
   "metadata": {},
   "source": [
    "Выберем параметр альфа при котором ошибка на тестовой выборке будет минимальной"
   ]
  },
  {
   "cell_type": "markdown",
   "id": "44379632",
   "metadata": {},
   "source": [
    "Из графика видно, это достигается при альфа ~ 2.4"
   ]
  },
  {
   "cell_type": "code",
   "execution_count": null,
   "id": "651c4cf9",
   "metadata": {},
   "outputs": [],
   "source": []
  },
  {
   "cell_type": "code",
   "execution_count": 565,
   "id": "396153d1",
   "metadata": {},
   "outputs": [
    {
     "name": "stdout",
     "output_type": "stream",
     "text": [
      "Error on X_train with optimal alpha:  0.28726708074534163\n",
      "Error on X_test with optimal alpha:  0.4384057971014493\n"
     ]
    }
   ],
   "source": [
    "mlp_model = MLPClassifier(alpha = 2.4, hidden_layer_sizes = (30,), \n",
    "                              solver = 'lbfgs', activation = 'logistic', max_iter=1000, random_state = 42)\n",
    "mlp_model.fit(X_train, y_train)\n",
    "\n",
    "y_train_pred = mlp_model.predict(X_train)\n",
    "y_test_pred = mlp_model.predict(X_test)\n",
    "print(\"Error on X_train with optimal alpha: \", np.mean(y_train != y_train_pred))\n",
    "print(\"Error on X_test with optimal alpha: \", np.mean(y_test != y_test_pred))"
   ]
  },
  {
   "cell_type": "markdown",
   "id": "bf50f1fe",
   "metadata": {},
   "source": [
    "Таким образом получили, что ошибка на тестовой выборке примерно 43.8%, на обучающей 28.7%"
   ]
  },
  {
   "cell_type": "markdown",
   "id": "b6d8d514",
   "metadata": {},
   "source": [
    "Теперь попробуем подобрать оптимальное число нейронов"
   ]
  },
  {
   "cell_type": "code",
   "execution_count": 569,
   "id": "59526780",
   "metadata": {},
   "outputs": [
    {
     "name": "stdout",
     "output_type": "stream",
     "text": [
      "Wall time: 30.6 s\n"
     ]
    }
   ],
   "source": [
    "%%time\n",
    "hidden_layer_arr = np.arange(1, 50)\n",
    "test_err = []\n",
    "train_err = []\n",
    "train_acc = []\n",
    "test_acc = []\n",
    "\n",
    "for my_hidden_layer_sizes in hidden_layer_arr:\n",
    "    mlp_model = MLPClassifier(alpha = 2.4, \n",
    "                              hidden_layer_sizes = my_hidden_layer_sizes,\n",
    "                              solver = 'lbfgs', \n",
    "                              max_iter = 1000, \n",
    "                              activation = 'logistic',\n",
    "                              random_state = 42)\n",
    "    \n",
    "    \n",
    "    mlp_model.fit(X_train, y_train)\n",
    "\n",
    "    y_train_pred = mlp_model.predict(X_train)\n",
    "    y_test_pred = mlp_model.predict(X_test)\n",
    "    \n",
    "    train_err.append(np.mean(y_train != y_train_pred))\n",
    "    test_err.append(np.mean(y_test != y_test_pred))\n",
    "    train_acc.append(accuracy_score(y_train, y_train_pred))\n",
    "    test_acc.append(accuracy_score(y_test, y_test_pred))"
   ]
  },
  {
   "cell_type": "code",
   "execution_count": 570,
   "id": "fab62bcd",
   "metadata": {},
   "outputs": [
    {
     "data": {
      "image/png": "[encoded data removed]",
      "text/plain": [
       "<Figure size 432x288 with 1 Axes>"
      ]
     },
     "metadata": {
      "needs_background": "light"
     },
     "output_type": "display_data"
    }
   ],
   "source": [
    "plt.semilogx(hidden_layer_arr, train_err, 'b-o', label = 'train')\n",
    "plt.semilogx(hidden_layer_arr, test_err, 'r-o', label = 'test')\n",
    "plt.xlim([np.min(hidden_layer_arr), np.max(hidden_layer_arr)])\n",
    "plt.title('Зависимость ошибки от количества слоев')\n",
    "plt.xlabel('hidden_layer_sizes')\n",
    "plt.ylabel('Error')\n",
    "plt.legend()\n",
    "pass"
   ]
  },
  {
   "cell_type": "code",
   "execution_count": 573,
   "id": "db018c51",
   "metadata": {},
   "outputs": [
    {
     "name": "stdout",
     "output_type": "stream",
     "text": [
      "Минимальная ошибка на X_train при альфа = 2.4:  0.26242236024844723\n",
      "Минимальная ошибка на X_test при альфа = 2.4:  0.427536231884058\n"
     ]
    }
   ],
   "source": [
    "min_train_err = np.min(train_err)\n",
    "min_test_err = np.min(test_err)\n",
    "print(\"Минимальная ошибка на X_train при альфа = 2.4: \", min_train_err)\n",
    "print(\"Минимальная ошибка на X_test при альфа = 2.4: \", min_test_err)"
   ]
  },
  {
   "cell_type": "markdown",
   "id": "b9394474",
   "metadata": {},
   "source": [
    "Выберем число нейронов при котором ошибка на тестовой выборке будет минимальной, число нейронов = 5"
   ]
  },
  {
   "cell_type": "code",
   "execution_count": 582,
   "id": "63a68bfa",
   "metadata": {},
   "outputs": [
    {
     "name": "stdout",
     "output_type": "stream",
     "text": [
      "Wall time: 98.7 ms\n"
     ]
    },
    {
     "data": {
      "text/plain": [
       "MLPClassifier(activation='logistic', alpha=2.4, hidden_layer_sizes=5,\n",
       "              max_iter=1000, random_state=42, solver='lbfgs')"
      ]
     },
     "execution_count": 582,
     "metadata": {},
     "output_type": "execute_result"
    }
   ],
   "source": [
    "%%time\n",
    "mlp_model = MLPClassifier(alpha = 2.4, \n",
    "                          hidden_layer_sizes = 5,\n",
    "                          solver = 'lbfgs', \n",
    "                          max_iter = 1000, \n",
    "                          activation = 'logistic',\n",
    "                          random_state = 42)\n",
    "\n",
    "mlp_model.fit(X_train, y_train)"
   ]
  },
  {
   "cell_type": "code",
   "execution_count": 583,
   "id": "a32cd6e2",
   "metadata": {},
   "outputs": [
    {
     "name": "stdout",
     "output_type": "stream",
     "text": [
      "Error on X_train with optimal alpha and hidden_layer_sizes:  0.3555900621118012\n",
      "Error on X_test with optimal alpha and hidden_layer_sizes:  0.427536231884058\n"
     ]
    }
   ],
   "source": [
    "y_train_pred = mlp_model.predict(X_train)\n",
    "y_test_pred = mlp_model.predict(X_test)\n",
    "\n",
    "err_train = np.mean(y_train != y_train_pred)\n",
    "err_test = np.mean(y_test != y_test_pred)\n",
    "\n",
    "print(\"Error on X_train with optimal alpha and hidden_layer_sizes: \", err_train)\n",
    "print(\"Error on X_test with optimal alpha and hidden_layer_sizes: \", err_test)"
   ]
  },
  {
   "cell_type": "markdown",
   "id": "7fdaa05a",
   "metadata": {},
   "source": [
    "Таким образом получили, что ошибка на тестовой выборке примерно 42.6%, на обучающей 35.6%"
   ]
  },
  {
   "cell_type": "markdown",
   "id": "e6a92816",
   "metadata": {},
   "source": [
    "То есть ошибка на тестовой выборке стала меньше на 1.1% по сравнению с предыдущим случаем, когда оптимальным был только параметр альфа"
   ]
  },
  {
   "cell_type": "code",
   "execution_count": null,
   "id": "4560376f",
   "metadata": {},
   "outputs": [],
   "source": []
  }
 ],
 "metadata": {
  "kernelspec": {
   "display_name": "Python 3",
   "language": "python",
   "name": "python3"
  },
  "language_info": {
   "codemirror_mode": {
    "name": "ipython",
    "version": 3
   },
   "file_extension": ".py",
   "mimetype": "text/x-python",
   "name": "python",
   "nbconvert_exporter": "python",
   "pygments_lexer": "ipython3",
   "version": "3.8.8"
  }
 },
 "nbformat": 4,
 "nbformat_minor": 5
}
