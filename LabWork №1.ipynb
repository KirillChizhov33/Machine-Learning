{
 "cells": [
  {
   "cell_type": "code",
   "execution_count": 115,
   "id": "9654b8db",
   "metadata": {},
   "outputs": [],
   "source": [
    "import numpy as np              \n",
    "import matplotlib.pyplot as plt \n",
    "%matplotlib inline \n",
    "import pandas as pd            \n",
    "import seaborn as sns           \n",
    "import sklearn     \n",
    "from sklearn.model_selection import train_test_split\n",
    "from sklearn.decomposition import PCA\n",
    "from sklearn.svm import SVC\n",
    "from sklearn.neighbors import KNeighborsClassifier\n",
    "from sklearn import ensemble\n",
    "from sklearn.metrics import confusion_matrix"
   ]
  },
  {
   "cell_type": "code",
   "execution_count": 116,
   "id": "acb7b581",
   "metadata": {},
   "outputs": [],
   "source": [
    "url = \"https://raw.githubusercontent.com/KirillChizhov33/Machine-Learning/main/heart_disease_uci.csv\"\n",
    "X = pd.read_csv(url)"
   ]
  },
  {
   "cell_type": "code",
   "execution_count": 117,
   "id": "6fc923f6",
   "metadata": {},
   "outputs": [
    {
     "data": {
      "text/plain": [
       "(920, 16)"
      ]
     },
     "execution_count": 117,
     "metadata": {},
     "output_type": "execute_result"
    }
   ],
   "source": [
    "X.shape"
   ]
  },
  {
   "cell_type": "markdown",
   "id": "61858b17",
   "metadata": {},
   "source": [
    "# 0. В данном датасете приведены некоторые характеристики человека, по которым определяется наличие/отсутствие болезни сердца. Необходимо классифицировать к какому классу num = {0,1,2,3,4} относится человек, где 0 - отсутствие болезни; 1,2,3,4 - стадии болезни сердца"
   ]
  },
  {
   "cell_type": "markdown",
   "id": "532226af",
   "metadata": {},
   "source": [
    "# 1. Данные были прочитаны по ссылке url, расположенной на GitHub"
   ]
  },
  {
   "cell_type": "markdown",
   "id": "72d06e98",
   "metadata": {},
   "source": [
    "# 2. Визуализация данных и вычисление основных характеристик"
   ]
  },
  {
   "cell_type": "code",
   "execution_count": 118,
   "id": "0d318517",
   "metadata": {},
   "outputs": [
    {
     "data": {
      "text/html": [
       "<div>\n",
       "<style scoped>\n",
       "    .dataframe tbody tr th:only-of-type {\n",
       "        vertical-align: middle;\n",
       "    }\n",
       "\n",
       "    .dataframe tbody tr th {\n",
       "        vertical-align: top;\n",
       "    }\n",
       "\n",
       "    .dataframe thead th {\n",
       "        text-align: right;\n",
       "    }\n",
       "</style>\n",
       "<table border=\"1\" class=\"dataframe\">\n",
       "  <thead>\n",
       "    <tr style=\"text-align: right;\">\n",
       "      <th></th>\n",
       "      <th>id</th>\n",
       "      <th>age</th>\n",
       "      <th>sex</th>\n",
       "      <th>dataset</th>\n",
       "      <th>cp</th>\n",
       "      <th>trestbps</th>\n",
       "      <th>chol</th>\n",
       "      <th>fbs</th>\n",
       "      <th>restecg</th>\n",
       "      <th>thalch</th>\n",
       "      <th>exang</th>\n",
       "      <th>oldpeak</th>\n",
       "      <th>slope</th>\n",
       "      <th>ca</th>\n",
       "      <th>thal</th>\n",
       "      <th>num</th>\n",
       "    </tr>\n",
       "  </thead>\n",
       "  <tbody>\n",
       "    <tr>\n",
       "      <th>0</th>\n",
       "      <td>1</td>\n",
       "      <td>63</td>\n",
       "      <td>Male</td>\n",
       "      <td>Cleveland</td>\n",
       "      <td>typical angina</td>\n",
       "      <td>145.0</td>\n",
       "      <td>233.0</td>\n",
       "      <td>True</td>\n",
       "      <td>lv hypertrophy</td>\n",
       "      <td>150.0</td>\n",
       "      <td>False</td>\n",
       "      <td>2.3</td>\n",
       "      <td>downsloping</td>\n",
       "      <td>0.0</td>\n",
       "      <td>fixed defect</td>\n",
       "      <td>0</td>\n",
       "    </tr>\n",
       "    <tr>\n",
       "      <th>1</th>\n",
       "      <td>2</td>\n",
       "      <td>67</td>\n",
       "      <td>Male</td>\n",
       "      <td>Cleveland</td>\n",
       "      <td>asymptomatic</td>\n",
       "      <td>160.0</td>\n",
       "      <td>286.0</td>\n",
       "      <td>False</td>\n",
       "      <td>lv hypertrophy</td>\n",
       "      <td>108.0</td>\n",
       "      <td>True</td>\n",
       "      <td>1.5</td>\n",
       "      <td>flat</td>\n",
       "      <td>3.0</td>\n",
       "      <td>normal</td>\n",
       "      <td>2</td>\n",
       "    </tr>\n",
       "    <tr>\n",
       "      <th>2</th>\n",
       "      <td>3</td>\n",
       "      <td>67</td>\n",
       "      <td>Male</td>\n",
       "      <td>Cleveland</td>\n",
       "      <td>asymptomatic</td>\n",
       "      <td>120.0</td>\n",
       "      <td>229.0</td>\n",
       "      <td>False</td>\n",
       "      <td>lv hypertrophy</td>\n",
       "      <td>129.0</td>\n",
       "      <td>True</td>\n",
       "      <td>2.6</td>\n",
       "      <td>flat</td>\n",
       "      <td>2.0</td>\n",
       "      <td>reversable defect</td>\n",
       "      <td>1</td>\n",
       "    </tr>\n",
       "    <tr>\n",
       "      <th>3</th>\n",
       "      <td>4</td>\n",
       "      <td>37</td>\n",
       "      <td>Male</td>\n",
       "      <td>Cleveland</td>\n",
       "      <td>non-anginal</td>\n",
       "      <td>130.0</td>\n",
       "      <td>250.0</td>\n",
       "      <td>False</td>\n",
       "      <td>normal</td>\n",
       "      <td>187.0</td>\n",
       "      <td>False</td>\n",
       "      <td>3.5</td>\n",
       "      <td>downsloping</td>\n",
       "      <td>0.0</td>\n",
       "      <td>normal</td>\n",
       "      <td>0</td>\n",
       "    </tr>\n",
       "    <tr>\n",
       "      <th>4</th>\n",
       "      <td>5</td>\n",
       "      <td>41</td>\n",
       "      <td>Female</td>\n",
       "      <td>Cleveland</td>\n",
       "      <td>atypical angina</td>\n",
       "      <td>130.0</td>\n",
       "      <td>204.0</td>\n",
       "      <td>False</td>\n",
       "      <td>lv hypertrophy</td>\n",
       "      <td>172.0</td>\n",
       "      <td>False</td>\n",
       "      <td>1.4</td>\n",
       "      <td>upsloping</td>\n",
       "      <td>0.0</td>\n",
       "      <td>normal</td>\n",
       "      <td>0</td>\n",
       "    </tr>\n",
       "  </tbody>\n",
       "</table>\n",
       "</div>"
      ],
      "text/plain": [
       "   id  age     sex    dataset               cp  trestbps   chol    fbs  \\\n",
       "0   1   63    Male  Cleveland   typical angina     145.0  233.0   True   \n",
       "1   2   67    Male  Cleveland     asymptomatic     160.0  286.0  False   \n",
       "2   3   67    Male  Cleveland     asymptomatic     120.0  229.0  False   \n",
       "3   4   37    Male  Cleveland      non-anginal     130.0  250.0  False   \n",
       "4   5   41  Female  Cleveland  atypical angina     130.0  204.0  False   \n",
       "\n",
       "          restecg  thalch  exang  oldpeak        slope   ca  \\\n",
       "0  lv hypertrophy   150.0  False      2.3  downsloping  0.0   \n",
       "1  lv hypertrophy   108.0   True      1.5         flat  3.0   \n",
       "2  lv hypertrophy   129.0   True      2.6         flat  2.0   \n",
       "3          normal   187.0  False      3.5  downsloping  0.0   \n",
       "4  lv hypertrophy   172.0  False      1.4    upsloping  0.0   \n",
       "\n",
       "                thal  num  \n",
       "0       fixed defect    0  \n",
       "1             normal    2  \n",
       "2  reversable defect    1  \n",
       "3             normal    0  \n",
       "4             normal    0  "
      ]
     },
     "execution_count": 118,
     "metadata": {},
     "output_type": "execute_result"
    }
   ],
   "source": [
    "X.head()"
   ]
  },
  {
   "cell_type": "code",
   "execution_count": 119,
   "id": "c93d8085",
   "metadata": {},
   "outputs": [
    {
     "data": {
      "text/html": [
       "<div>\n",
       "<style scoped>\n",
       "    .dataframe tbody tr th:only-of-type {\n",
       "        vertical-align: middle;\n",
       "    }\n",
       "\n",
       "    .dataframe tbody tr th {\n",
       "        vertical-align: top;\n",
       "    }\n",
       "\n",
       "    .dataframe thead th {\n",
       "        text-align: right;\n",
       "    }\n",
       "</style>\n",
       "<table border=\"1\" class=\"dataframe\">\n",
       "  <thead>\n",
       "    <tr style=\"text-align: right;\">\n",
       "      <th></th>\n",
       "      <th>id</th>\n",
       "      <th>age</th>\n",
       "      <th>sex</th>\n",
       "      <th>dataset</th>\n",
       "      <th>cp</th>\n",
       "      <th>trestbps</th>\n",
       "      <th>chol</th>\n",
       "      <th>fbs</th>\n",
       "      <th>restecg</th>\n",
       "      <th>thalch</th>\n",
       "      <th>exang</th>\n",
       "      <th>oldpeak</th>\n",
       "      <th>slope</th>\n",
       "      <th>ca</th>\n",
       "      <th>thal</th>\n",
       "      <th>num</th>\n",
       "    </tr>\n",
       "  </thead>\n",
       "  <tbody>\n",
       "    <tr>\n",
       "      <th>915</th>\n",
       "      <td>916</td>\n",
       "      <td>54</td>\n",
       "      <td>Female</td>\n",
       "      <td>VA Long Beach</td>\n",
       "      <td>asymptomatic</td>\n",
       "      <td>127.0</td>\n",
       "      <td>333.0</td>\n",
       "      <td>True</td>\n",
       "      <td>st-t abnormality</td>\n",
       "      <td>154.0</td>\n",
       "      <td>False</td>\n",
       "      <td>0.0</td>\n",
       "      <td>NaN</td>\n",
       "      <td>NaN</td>\n",
       "      <td>NaN</td>\n",
       "      <td>1</td>\n",
       "    </tr>\n",
       "    <tr>\n",
       "      <th>916</th>\n",
       "      <td>917</td>\n",
       "      <td>62</td>\n",
       "      <td>Male</td>\n",
       "      <td>VA Long Beach</td>\n",
       "      <td>typical angina</td>\n",
       "      <td>NaN</td>\n",
       "      <td>139.0</td>\n",
       "      <td>False</td>\n",
       "      <td>st-t abnormality</td>\n",
       "      <td>NaN</td>\n",
       "      <td>NaN</td>\n",
       "      <td>NaN</td>\n",
       "      <td>NaN</td>\n",
       "      <td>NaN</td>\n",
       "      <td>NaN</td>\n",
       "      <td>0</td>\n",
       "    </tr>\n",
       "    <tr>\n",
       "      <th>917</th>\n",
       "      <td>918</td>\n",
       "      <td>55</td>\n",
       "      <td>Male</td>\n",
       "      <td>VA Long Beach</td>\n",
       "      <td>asymptomatic</td>\n",
       "      <td>122.0</td>\n",
       "      <td>223.0</td>\n",
       "      <td>True</td>\n",
       "      <td>st-t abnormality</td>\n",
       "      <td>100.0</td>\n",
       "      <td>False</td>\n",
       "      <td>0.0</td>\n",
       "      <td>NaN</td>\n",
       "      <td>NaN</td>\n",
       "      <td>fixed defect</td>\n",
       "      <td>2</td>\n",
       "    </tr>\n",
       "    <tr>\n",
       "      <th>918</th>\n",
       "      <td>919</td>\n",
       "      <td>58</td>\n",
       "      <td>Male</td>\n",
       "      <td>VA Long Beach</td>\n",
       "      <td>asymptomatic</td>\n",
       "      <td>NaN</td>\n",
       "      <td>385.0</td>\n",
       "      <td>True</td>\n",
       "      <td>lv hypertrophy</td>\n",
       "      <td>NaN</td>\n",
       "      <td>NaN</td>\n",
       "      <td>NaN</td>\n",
       "      <td>NaN</td>\n",
       "      <td>NaN</td>\n",
       "      <td>NaN</td>\n",
       "      <td>0</td>\n",
       "    </tr>\n",
       "    <tr>\n",
       "      <th>919</th>\n",
       "      <td>920</td>\n",
       "      <td>62</td>\n",
       "      <td>Male</td>\n",
       "      <td>VA Long Beach</td>\n",
       "      <td>atypical angina</td>\n",
       "      <td>120.0</td>\n",
       "      <td>254.0</td>\n",
       "      <td>False</td>\n",
       "      <td>lv hypertrophy</td>\n",
       "      <td>93.0</td>\n",
       "      <td>True</td>\n",
       "      <td>0.0</td>\n",
       "      <td>NaN</td>\n",
       "      <td>NaN</td>\n",
       "      <td>NaN</td>\n",
       "      <td>1</td>\n",
       "    </tr>\n",
       "  </tbody>\n",
       "</table>\n",
       "</div>"
      ],
      "text/plain": [
       "      id  age     sex        dataset               cp  trestbps   chol    fbs  \\\n",
       "915  916   54  Female  VA Long Beach     asymptomatic     127.0  333.0   True   \n",
       "916  917   62    Male  VA Long Beach   typical angina       NaN  139.0  False   \n",
       "917  918   55    Male  VA Long Beach     asymptomatic     122.0  223.0   True   \n",
       "918  919   58    Male  VA Long Beach     asymptomatic       NaN  385.0   True   \n",
       "919  920   62    Male  VA Long Beach  atypical angina     120.0  254.0  False   \n",
       "\n",
       "              restecg  thalch  exang  oldpeak slope  ca          thal  num  \n",
       "915  st-t abnormality   154.0  False      0.0   NaN NaN           NaN    1  \n",
       "916  st-t abnormality     NaN    NaN      NaN   NaN NaN           NaN    0  \n",
       "917  st-t abnormality   100.0  False      0.0   NaN NaN  fixed defect    2  \n",
       "918    lv hypertrophy     NaN    NaN      NaN   NaN NaN           NaN    0  \n",
       "919    lv hypertrophy    93.0   True      0.0   NaN NaN           NaN    1  "
      ]
     },
     "execution_count": 119,
     "metadata": {},
     "output_type": "execute_result"
    }
   ],
   "source": [
    "X.tail()"
   ]
  },
  {
   "cell_type": "code",
   "execution_count": 120,
   "id": "6c62793c",
   "metadata": {},
   "outputs": [
    {
     "data": {
      "text/plain": [
       "Index(['id', 'age', 'sex', 'dataset', 'cp', 'trestbps', 'chol', 'fbs',\n",
       "       'restecg', 'thalch', 'exang', 'oldpeak', 'slope', 'ca', 'thal', 'num'],\n",
       "      dtype='object')"
      ]
     },
     "execution_count": 120,
     "metadata": {},
     "output_type": "execute_result"
    }
   ],
   "source": [
    "X.columns"
   ]
  },
  {
   "cell_type": "code",
   "execution_count": 121,
   "id": "03d2451d",
   "metadata": {},
   "outputs": [
    {
     "data": {
      "text/html": [
       "<div>\n",
       "<style scoped>\n",
       "    .dataframe tbody tr th:only-of-type {\n",
       "        vertical-align: middle;\n",
       "    }\n",
       "\n",
       "    .dataframe tbody tr th {\n",
       "        vertical-align: top;\n",
       "    }\n",
       "\n",
       "    .dataframe thead th {\n",
       "        text-align: right;\n",
       "    }\n",
       "</style>\n",
       "<table border=\"1\" class=\"dataframe\">\n",
       "  <thead>\n",
       "    <tr style=\"text-align: right;\">\n",
       "      <th></th>\n",
       "      <th>id</th>\n",
       "      <th>age</th>\n",
       "      <th>trestbps</th>\n",
       "      <th>chol</th>\n",
       "      <th>thalch</th>\n",
       "      <th>oldpeak</th>\n",
       "      <th>ca</th>\n",
       "      <th>num</th>\n",
       "    </tr>\n",
       "  </thead>\n",
       "  <tbody>\n",
       "    <tr>\n",
       "      <th>count</th>\n",
       "      <td>920.000000</td>\n",
       "      <td>920.000000</td>\n",
       "      <td>861.000000</td>\n",
       "      <td>890.000000</td>\n",
       "      <td>865.000000</td>\n",
       "      <td>858.000000</td>\n",
       "      <td>309.000000</td>\n",
       "      <td>920.000000</td>\n",
       "    </tr>\n",
       "    <tr>\n",
       "      <th>mean</th>\n",
       "      <td>460.500000</td>\n",
       "      <td>53.510870</td>\n",
       "      <td>132.132404</td>\n",
       "      <td>199.130337</td>\n",
       "      <td>137.545665</td>\n",
       "      <td>0.878788</td>\n",
       "      <td>0.676375</td>\n",
       "      <td>0.995652</td>\n",
       "    </tr>\n",
       "    <tr>\n",
       "      <th>std</th>\n",
       "      <td>265.725422</td>\n",
       "      <td>9.424685</td>\n",
       "      <td>19.066070</td>\n",
       "      <td>110.780810</td>\n",
       "      <td>25.926276</td>\n",
       "      <td>1.091226</td>\n",
       "      <td>0.935653</td>\n",
       "      <td>1.142693</td>\n",
       "    </tr>\n",
       "    <tr>\n",
       "      <th>min</th>\n",
       "      <td>1.000000</td>\n",
       "      <td>28.000000</td>\n",
       "      <td>0.000000</td>\n",
       "      <td>0.000000</td>\n",
       "      <td>60.000000</td>\n",
       "      <td>-2.600000</td>\n",
       "      <td>0.000000</td>\n",
       "      <td>0.000000</td>\n",
       "    </tr>\n",
       "    <tr>\n",
       "      <th>25%</th>\n",
       "      <td>230.750000</td>\n",
       "      <td>47.000000</td>\n",
       "      <td>120.000000</td>\n",
       "      <td>175.000000</td>\n",
       "      <td>120.000000</td>\n",
       "      <td>0.000000</td>\n",
       "      <td>0.000000</td>\n",
       "      <td>0.000000</td>\n",
       "    </tr>\n",
       "    <tr>\n",
       "      <th>50%</th>\n",
       "      <td>460.500000</td>\n",
       "      <td>54.000000</td>\n",
       "      <td>130.000000</td>\n",
       "      <td>223.000000</td>\n",
       "      <td>140.000000</td>\n",
       "      <td>0.500000</td>\n",
       "      <td>0.000000</td>\n",
       "      <td>1.000000</td>\n",
       "    </tr>\n",
       "    <tr>\n",
       "      <th>75%</th>\n",
       "      <td>690.250000</td>\n",
       "      <td>60.000000</td>\n",
       "      <td>140.000000</td>\n",
       "      <td>268.000000</td>\n",
       "      <td>157.000000</td>\n",
       "      <td>1.500000</td>\n",
       "      <td>1.000000</td>\n",
       "      <td>2.000000</td>\n",
       "    </tr>\n",
       "    <tr>\n",
       "      <th>max</th>\n",
       "      <td>920.000000</td>\n",
       "      <td>77.000000</td>\n",
       "      <td>200.000000</td>\n",
       "      <td>603.000000</td>\n",
       "      <td>202.000000</td>\n",
       "      <td>6.200000</td>\n",
       "      <td>3.000000</td>\n",
       "      <td>4.000000</td>\n",
       "    </tr>\n",
       "  </tbody>\n",
       "</table>\n",
       "</div>"
      ],
      "text/plain": [
       "               id         age    trestbps        chol      thalch     oldpeak  \\\n",
       "count  920.000000  920.000000  861.000000  890.000000  865.000000  858.000000   \n",
       "mean   460.500000   53.510870  132.132404  199.130337  137.545665    0.878788   \n",
       "std    265.725422    9.424685   19.066070  110.780810   25.926276    1.091226   \n",
       "min      1.000000   28.000000    0.000000    0.000000   60.000000   -2.600000   \n",
       "25%    230.750000   47.000000  120.000000  175.000000  120.000000    0.000000   \n",
       "50%    460.500000   54.000000  130.000000  223.000000  140.000000    0.500000   \n",
       "75%    690.250000   60.000000  140.000000  268.000000  157.000000    1.500000   \n",
       "max    920.000000   77.000000  200.000000  603.000000  202.000000    6.200000   \n",
       "\n",
       "               ca         num  \n",
       "count  309.000000  920.000000  \n",
       "mean     0.676375    0.995652  \n",
       "std      0.935653    1.142693  \n",
       "min      0.000000    0.000000  \n",
       "25%      0.000000    0.000000  \n",
       "50%      0.000000    1.000000  \n",
       "75%      1.000000    2.000000  \n",
       "max      3.000000    4.000000  "
      ]
     },
     "execution_count": 121,
     "metadata": {},
     "output_type": "execute_result"
    }
   ],
   "source": [
    "X.describe()"
   ]
  },
  {
   "cell_type": "markdown",
   "id": "8bc389a5",
   "metadata": {},
   "source": [
    "Видно, что в датасете есть пропущенные значения, так же найдены средние значения, например средний возраст равен приблизительно 54 годам. Для каждого количественного признака приведены средние значения, стандартное отклонение, минимальное и макимальное значения, медиана и значения квартилей."
   ]
  },
  {
   "cell_type": "code",
   "execution_count": 122,
   "id": "4a71d69f",
   "metadata": {},
   "outputs": [
    {
     "data": {
      "text/plain": [
       "dtype('O')"
      ]
     },
     "execution_count": 122,
     "metadata": {},
     "output_type": "execute_result"
    }
   ],
   "source": [
    "X['sex'].dtype"
   ]
  },
  {
   "cell_type": "code",
   "execution_count": 123,
   "id": "39da5617",
   "metadata": {},
   "outputs": [],
   "source": [
    "X['sex'] = X['sex'].astype('category')\n",
    "X['dataset'] = X['dataset'].astype('category')\n",
    "X['cp'] = X['cp'].astype('category')\n",
    "X['fbs'] = X['fbs'].astype('category')\n",
    "X['restecg'] = X['restecg'].astype('category')\n",
    "X['exang'] = X['exang'].astype('category')\n",
    "X['slope'] = X['slope'].astype('category')\n",
    "X['thal'] = X['thal'].astype('category')"
   ]
  },
  {
   "cell_type": "code",
   "execution_count": 124,
   "id": "5f1c6736",
   "metadata": {},
   "outputs": [
    {
     "data": {
      "text/html": [
       "<div>\n",
       "<style scoped>\n",
       "    .dataframe tbody tr th:only-of-type {\n",
       "        vertical-align: middle;\n",
       "    }\n",
       "\n",
       "    .dataframe tbody tr th {\n",
       "        vertical-align: top;\n",
       "    }\n",
       "\n",
       "    .dataframe thead th {\n",
       "        text-align: right;\n",
       "    }\n",
       "</style>\n",
       "<table border=\"1\" class=\"dataframe\">\n",
       "  <thead>\n",
       "    <tr style=\"text-align: right;\">\n",
       "      <th></th>\n",
       "      <th>sex</th>\n",
       "      <th>dataset</th>\n",
       "      <th>cp</th>\n",
       "      <th>fbs</th>\n",
       "      <th>restecg</th>\n",
       "      <th>exang</th>\n",
       "      <th>slope</th>\n",
       "      <th>thal</th>\n",
       "    </tr>\n",
       "  </thead>\n",
       "  <tbody>\n",
       "    <tr>\n",
       "      <th>count</th>\n",
       "      <td>920</td>\n",
       "      <td>920</td>\n",
       "      <td>920</td>\n",
       "      <td>830</td>\n",
       "      <td>918</td>\n",
       "      <td>865</td>\n",
       "      <td>611</td>\n",
       "      <td>434</td>\n",
       "    </tr>\n",
       "    <tr>\n",
       "      <th>unique</th>\n",
       "      <td>2</td>\n",
       "      <td>4</td>\n",
       "      <td>4</td>\n",
       "      <td>2</td>\n",
       "      <td>3</td>\n",
       "      <td>2</td>\n",
       "      <td>3</td>\n",
       "      <td>3</td>\n",
       "    </tr>\n",
       "    <tr>\n",
       "      <th>top</th>\n",
       "      <td>Male</td>\n",
       "      <td>Cleveland</td>\n",
       "      <td>asymptomatic</td>\n",
       "      <td>False</td>\n",
       "      <td>normal</td>\n",
       "      <td>False</td>\n",
       "      <td>flat</td>\n",
       "      <td>normal</td>\n",
       "    </tr>\n",
       "    <tr>\n",
       "      <th>freq</th>\n",
       "      <td>726</td>\n",
       "      <td>304</td>\n",
       "      <td>496</td>\n",
       "      <td>692</td>\n",
       "      <td>551</td>\n",
       "      <td>528</td>\n",
       "      <td>345</td>\n",
       "      <td>196</td>\n",
       "    </tr>\n",
       "  </tbody>\n",
       "</table>\n",
       "</div>"
      ],
      "text/plain": [
       "         sex    dataset            cp    fbs restecg  exang slope    thal\n",
       "count    920        920           920    830     918    865   611     434\n",
       "unique     2          4             4      2       3      2     3       3\n",
       "top     Male  Cleveland  asymptomatic  False  normal  False  flat  normal\n",
       "freq     726        304           496    692     551    528   345     196"
      ]
     },
     "execution_count": 124,
     "metadata": {},
     "output_type": "execute_result"
    }
   ],
   "source": [
    "X.describe(include=['category'])"
   ]
  },
  {
   "cell_type": "markdown",
   "id": "6b5f9984",
   "metadata": {},
   "source": [
    "Всего 16 признаков из которых 8 - категориальные и 8 - количественные"
   ]
  },
  {
   "cell_type": "markdown",
   "id": "8e3200d2",
   "metadata": {},
   "source": [
    "Посмотрим как зависит признак num от признака age  "
   ]
  },
  {
   "cell_type": "code",
   "execution_count": 125,
   "id": "be5e5390",
   "metadata": {},
   "outputs": [
    {
     "data": {
      "image/png": "[encoded data removed]",
      "text/plain": [
       "<Figure size 432x288 with 1 Axes>"
      ]
     },
     "metadata": {
      "needs_background": "light"
     },
     "output_type": "display_data"
    }
   ],
   "source": [
    "plt.scatter(X['num'], X['age'], alpha=0.1)\n",
    "plt.xlabel('num')\n",
    "plt.ylabel('age')\n",
    "pass"
   ]
  },
  {
   "cell_type": "code",
   "execution_count": 126,
   "id": "6e569896",
   "metadata": {},
   "outputs": [
    {
     "data": {
      "text/html": [
       "<div>\n",
       "<style scoped>\n",
       "    .dataframe tbody tr th:only-of-type {\n",
       "        vertical-align: middle;\n",
       "    }\n",
       "\n",
       "    .dataframe tbody tr th {\n",
       "        vertical-align: top;\n",
       "    }\n",
       "\n",
       "    .dataframe thead th {\n",
       "        text-align: right;\n",
       "    }\n",
       "</style>\n",
       "<table border=\"1\" class=\"dataframe\">\n",
       "  <thead>\n",
       "    <tr style=\"text-align: right;\">\n",
       "      <th></th>\n",
       "      <th>id</th>\n",
       "      <th>age</th>\n",
       "      <th>trestbps</th>\n",
       "      <th>chol</th>\n",
       "      <th>thalch</th>\n",
       "      <th>oldpeak</th>\n",
       "      <th>ca</th>\n",
       "      <th>num</th>\n",
       "    </tr>\n",
       "  </thead>\n",
       "  <tbody>\n",
       "    <tr>\n",
       "      <th>id</th>\n",
       "      <td>1.000000</td>\n",
       "      <td>0.239301</td>\n",
       "      <td>0.052924</td>\n",
       "      <td>-0.376936</td>\n",
       "      <td>-0.466427</td>\n",
       "      <td>0.049930</td>\n",
       "      <td>0.061433</td>\n",
       "      <td>0.273552</td>\n",
       "    </tr>\n",
       "    <tr>\n",
       "      <th>age</th>\n",
       "      <td>0.239301</td>\n",
       "      <td>1.000000</td>\n",
       "      <td>0.244253</td>\n",
       "      <td>-0.086234</td>\n",
       "      <td>-0.365778</td>\n",
       "      <td>0.258243</td>\n",
       "      <td>0.370416</td>\n",
       "      <td>0.339596</td>\n",
       "    </tr>\n",
       "    <tr>\n",
       "      <th>trestbps</th>\n",
       "      <td>0.052924</td>\n",
       "      <td>0.244253</td>\n",
       "      <td>1.000000</td>\n",
       "      <td>0.092853</td>\n",
       "      <td>-0.104899</td>\n",
       "      <td>0.161908</td>\n",
       "      <td>0.093705</td>\n",
       "      <td>0.122291</td>\n",
       "    </tr>\n",
       "    <tr>\n",
       "      <th>chol</th>\n",
       "      <td>-0.376936</td>\n",
       "      <td>-0.086234</td>\n",
       "      <td>0.092853</td>\n",
       "      <td>1.000000</td>\n",
       "      <td>0.236121</td>\n",
       "      <td>0.047734</td>\n",
       "      <td>0.051606</td>\n",
       "      <td>-0.231547</td>\n",
       "    </tr>\n",
       "    <tr>\n",
       "      <th>thalch</th>\n",
       "      <td>-0.466427</td>\n",
       "      <td>-0.365778</td>\n",
       "      <td>-0.104899</td>\n",
       "      <td>0.236121</td>\n",
       "      <td>1.000000</td>\n",
       "      <td>-0.151174</td>\n",
       "      <td>-0.264094</td>\n",
       "      <td>-0.366265</td>\n",
       "    </tr>\n",
       "    <tr>\n",
       "      <th>oldpeak</th>\n",
       "      <td>0.049930</td>\n",
       "      <td>0.258243</td>\n",
       "      <td>0.161908</td>\n",
       "      <td>0.047734</td>\n",
       "      <td>-0.151174</td>\n",
       "      <td>1.000000</td>\n",
       "      <td>0.281817</td>\n",
       "      <td>0.443084</td>\n",
       "    </tr>\n",
       "    <tr>\n",
       "      <th>ca</th>\n",
       "      <td>0.061433</td>\n",
       "      <td>0.370416</td>\n",
       "      <td>0.093705</td>\n",
       "      <td>0.051606</td>\n",
       "      <td>-0.264094</td>\n",
       "      <td>0.281817</td>\n",
       "      <td>1.000000</td>\n",
       "      <td>0.516216</td>\n",
       "    </tr>\n",
       "    <tr>\n",
       "      <th>num</th>\n",
       "      <td>0.273552</td>\n",
       "      <td>0.339596</td>\n",
       "      <td>0.122291</td>\n",
       "      <td>-0.231547</td>\n",
       "      <td>-0.366265</td>\n",
       "      <td>0.443084</td>\n",
       "      <td>0.516216</td>\n",
       "      <td>1.000000</td>\n",
       "    </tr>\n",
       "  </tbody>\n",
       "</table>\n",
       "</div>"
      ],
      "text/plain": [
       "                id       age  trestbps      chol    thalch   oldpeak  \\\n",
       "id        1.000000  0.239301  0.052924 -0.376936 -0.466427  0.049930   \n",
       "age       0.239301  1.000000  0.244253 -0.086234 -0.365778  0.258243   \n",
       "trestbps  0.052924  0.244253  1.000000  0.092853 -0.104899  0.161908   \n",
       "chol     -0.376936 -0.086234  0.092853  1.000000  0.236121  0.047734   \n",
       "thalch   -0.466427 -0.365778 -0.104899  0.236121  1.000000 -0.151174   \n",
       "oldpeak   0.049930  0.258243  0.161908  0.047734 -0.151174  1.000000   \n",
       "ca        0.061433  0.370416  0.093705  0.051606 -0.264094  0.281817   \n",
       "num       0.273552  0.339596  0.122291 -0.231547 -0.366265  0.443084   \n",
       "\n",
       "                ca       num  \n",
       "id        0.061433  0.273552  \n",
       "age       0.370416  0.339596  \n",
       "trestbps  0.093705  0.122291  \n",
       "chol      0.051606 -0.231547  \n",
       "thalch   -0.264094 -0.366265  \n",
       "oldpeak   0.281817  0.443084  \n",
       "ca        1.000000  0.516216  \n",
       "num       0.516216  1.000000  "
      ]
     },
     "execution_count": 126,
     "metadata": {},
     "output_type": "execute_result"
    }
   ],
   "source": [
    "corr_mat = X.corr()\n",
    "corr_mat"
   ]
  },
  {
   "cell_type": "markdown",
   "id": "c30150af",
   "metadata": {},
   "source": [
    "Из корреляционной матрицы видно, что есть умеренная корреляция между признаками age и num"
   ]
  },
  {
   "cell_type": "code",
   "execution_count": 127,
   "id": "a61cc1f8",
   "metadata": {},
   "outputs": [
    {
     "data": {
      "image/png": "[encoded data removed]",
      "text/plain": [
       "<Figure size 432x288 with 1 Axes>"
      ]
     },
     "metadata": {
      "needs_background": "light"
     },
     "output_type": "display_data"
    }
   ],
   "source": [
    "plt.scatter(X['num'], X['ca'], alpha=0.05)\n",
    "plt.xlabel('num')\n",
    "plt.ylabel('ca')\n",
    "pass"
   ]
  },
  {
   "cell_type": "markdown",
   "id": "fec984cc",
   "metadata": {},
   "source": [
    "Самая сильная корреляция наблюдается между признаками ca и num, Corr(ca, num) ~ 0.52"
   ]
  },
  {
   "cell_type": "markdown",
   "id": "74a299ab",
   "metadata": {},
   "source": [
    "# 3.Обработка пропущенных значений"
   ]
  },
  {
   "cell_type": "markdown",
   "id": "872de1d4",
   "metadata": {},
   "source": [
    "Пропущенные значения в таблице представлены значениями NaN. Посмотрим, сколько пропущенных значений в каждом столбце матрицы:"
   ]
  },
  {
   "cell_type": "code",
   "execution_count": 128,
   "id": "28aa7539",
   "metadata": {},
   "outputs": [
    {
     "data": {
      "text/plain": [
       "id            0\n",
       "age           0\n",
       "sex           0\n",
       "dataset       0\n",
       "cp            0\n",
       "trestbps     59\n",
       "chol         30\n",
       "fbs          90\n",
       "restecg       2\n",
       "thalch       55\n",
       "exang        55\n",
       "oldpeak      62\n",
       "slope       309\n",
       "ca          611\n",
       "thal        486\n",
       "num           0\n",
       "dtype: int64"
      ]
     },
     "execution_count": 128,
     "metadata": {},
     "output_type": "execute_result"
    }
   ],
   "source": [
    "X.isna().sum()"
   ]
  },
  {
   "cell_type": "markdown",
   "id": "2719c57e",
   "metadata": {},
   "source": [
    "Заполним пропущенные значения средним или медианой (для количественных признаков) или модой (для номинальных признаков)."
   ]
  },
  {
   "cell_type": "markdown",
   "id": "459d4822",
   "metadata": {},
   "source": [
    "Начнём с количественных признаков"
   ]
  },
  {
   "cell_type": "code",
   "execution_count": 129,
   "id": "3133e3e0",
   "metadata": {},
   "outputs": [],
   "source": [
    "X.fillna(X.median(axis = 0), axis=0 , inplace=True) #inplace = True, присвоить значенрие data прямо сейчас"
   ]
  },
  {
   "cell_type": "code",
   "execution_count": 130,
   "id": "dd4560f9",
   "metadata": {},
   "outputs": [
    {
     "data": {
      "text/plain": [
       "id            0\n",
       "age           0\n",
       "sex           0\n",
       "dataset       0\n",
       "cp            0\n",
       "trestbps      0\n",
       "chol          0\n",
       "fbs          90\n",
       "restecg       2\n",
       "thalch        0\n",
       "exang        55\n",
       "oldpeak       0\n",
       "slope       309\n",
       "ca            0\n",
       "thal        486\n",
       "num           0\n",
       "dtype: int64"
      ]
     },
     "execution_count": 130,
     "metadata": {},
     "output_type": "execute_result"
    }
   ],
   "source": [
    "X.isna().sum()"
   ]
  },
  {
   "cell_type": "code",
   "execution_count": 131,
   "id": "047996f9",
   "metadata": {},
   "outputs": [],
   "source": [
    "X['sex'].fillna(X['sex'].mode().iloc[0], inplace=True)\n",
    "X['dataset'].fillna(X['dataset'].mode().iloc[0], inplace=True)\n",
    "X['cp'].fillna(X['cp'].mode().iloc[0], inplace=True)\n",
    "X['fbs'].fillna(X['fbs'].mode().iloc[0], inplace=True)\n",
    "X['restecg'].fillna(X['restecg'].mode().iloc[0], inplace=True)\n",
    "X['exang'].fillna(X['exang'].mode().iloc[0], inplace=True)\n",
    "X['slope'].fillna(X['slope'].mode().iloc[0], inplace=True)\n",
    "X['thal'].fillna(X['thal'].mode().iloc[0], inplace=True)"
   ]
  },
  {
   "cell_type": "code",
   "execution_count": 132,
   "id": "4607034a",
   "metadata": {},
   "outputs": [
    {
     "data": {
      "text/plain": [
       "id          0\n",
       "age         0\n",
       "sex         0\n",
       "dataset     0\n",
       "cp          0\n",
       "trestbps    0\n",
       "chol        0\n",
       "fbs         0\n",
       "restecg     0\n",
       "thalch      0\n",
       "exang       0\n",
       "oldpeak     0\n",
       "slope       0\n",
       "ca          0\n",
       "thal        0\n",
       "num         0\n",
       "dtype: int64"
      ]
     },
     "execution_count": 132,
     "metadata": {},
     "output_type": "execute_result"
    }
   ],
   "source": [
    "X.isna().sum()"
   ]
  },
  {
   "cell_type": "markdown",
   "id": "d11cb4e7",
   "metadata": {},
   "source": [
    "Таким образом мы избравились от пропущенных значений"
   ]
  },
  {
   "cell_type": "code",
   "execution_count": 133,
   "id": "f4598524",
   "metadata": {},
   "outputs": [
    {
     "data": {
      "text/html": [
       "<div>\n",
       "<style scoped>\n",
       "    .dataframe tbody tr th:only-of-type {\n",
       "        vertical-align: middle;\n",
       "    }\n",
       "\n",
       "    .dataframe tbody tr th {\n",
       "        vertical-align: top;\n",
       "    }\n",
       "\n",
       "    .dataframe thead th {\n",
       "        text-align: right;\n",
       "    }\n",
       "</style>\n",
       "<table border=\"1\" class=\"dataframe\">\n",
       "  <thead>\n",
       "    <tr style=\"text-align: right;\">\n",
       "      <th></th>\n",
       "      <th>id</th>\n",
       "      <th>age</th>\n",
       "      <th>trestbps</th>\n",
       "      <th>chol</th>\n",
       "      <th>thalch</th>\n",
       "      <th>oldpeak</th>\n",
       "      <th>ca</th>\n",
       "      <th>num</th>\n",
       "    </tr>\n",
       "  </thead>\n",
       "  <tbody>\n",
       "    <tr>\n",
       "      <th>count</th>\n",
       "      <td>920.000000</td>\n",
       "      <td>920.000000</td>\n",
       "      <td>920.000000</td>\n",
       "      <td>920.000000</td>\n",
       "      <td>920.000000</td>\n",
       "      <td>920.000000</td>\n",
       "      <td>920.000000</td>\n",
       "      <td>920.000000</td>\n",
       "    </tr>\n",
       "    <tr>\n",
       "      <th>mean</th>\n",
       "      <td>460.500000</td>\n",
       "      <td>53.510870</td>\n",
       "      <td>131.995652</td>\n",
       "      <td>199.908696</td>\n",
       "      <td>137.692391</td>\n",
       "      <td>0.853261</td>\n",
       "      <td>0.227174</td>\n",
       "      <td>0.995652</td>\n",
       "    </tr>\n",
       "    <tr>\n",
       "      <th>std</th>\n",
       "      <td>265.725422</td>\n",
       "      <td>9.424685</td>\n",
       "      <td>18.451300</td>\n",
       "      <td>109.040171</td>\n",
       "      <td>25.145235</td>\n",
       "      <td>1.058049</td>\n",
       "      <td>0.628936</td>\n",
       "      <td>1.142693</td>\n",
       "    </tr>\n",
       "    <tr>\n",
       "      <th>min</th>\n",
       "      <td>1.000000</td>\n",
       "      <td>28.000000</td>\n",
       "      <td>0.000000</td>\n",
       "      <td>0.000000</td>\n",
       "      <td>60.000000</td>\n",
       "      <td>-2.600000</td>\n",
       "      <td>0.000000</td>\n",
       "      <td>0.000000</td>\n",
       "    </tr>\n",
       "    <tr>\n",
       "      <th>25%</th>\n",
       "      <td>230.750000</td>\n",
       "      <td>47.000000</td>\n",
       "      <td>120.000000</td>\n",
       "      <td>177.750000</td>\n",
       "      <td>120.000000</td>\n",
       "      <td>0.000000</td>\n",
       "      <td>0.000000</td>\n",
       "      <td>0.000000</td>\n",
       "    </tr>\n",
       "    <tr>\n",
       "      <th>50%</th>\n",
       "      <td>460.500000</td>\n",
       "      <td>54.000000</td>\n",
       "      <td>130.000000</td>\n",
       "      <td>223.000000</td>\n",
       "      <td>140.000000</td>\n",
       "      <td>0.500000</td>\n",
       "      <td>0.000000</td>\n",
       "      <td>1.000000</td>\n",
       "    </tr>\n",
       "    <tr>\n",
       "      <th>75%</th>\n",
       "      <td>690.250000</td>\n",
       "      <td>60.000000</td>\n",
       "      <td>140.000000</td>\n",
       "      <td>267.000000</td>\n",
       "      <td>156.000000</td>\n",
       "      <td>1.500000</td>\n",
       "      <td>0.000000</td>\n",
       "      <td>2.000000</td>\n",
       "    </tr>\n",
       "    <tr>\n",
       "      <th>max</th>\n",
       "      <td>920.000000</td>\n",
       "      <td>77.000000</td>\n",
       "      <td>200.000000</td>\n",
       "      <td>603.000000</td>\n",
       "      <td>202.000000</td>\n",
       "      <td>6.200000</td>\n",
       "      <td>3.000000</td>\n",
       "      <td>4.000000</td>\n",
       "    </tr>\n",
       "  </tbody>\n",
       "</table>\n",
       "</div>"
      ],
      "text/plain": [
       "               id         age    trestbps        chol      thalch     oldpeak  \\\n",
       "count  920.000000  920.000000  920.000000  920.000000  920.000000  920.000000   \n",
       "mean   460.500000   53.510870  131.995652  199.908696  137.692391    0.853261   \n",
       "std    265.725422    9.424685   18.451300  109.040171   25.145235    1.058049   \n",
       "min      1.000000   28.000000    0.000000    0.000000   60.000000   -2.600000   \n",
       "25%    230.750000   47.000000  120.000000  177.750000  120.000000    0.000000   \n",
       "50%    460.500000   54.000000  130.000000  223.000000  140.000000    0.500000   \n",
       "75%    690.250000   60.000000  140.000000  267.000000  156.000000    1.500000   \n",
       "max    920.000000   77.000000  200.000000  603.000000  202.000000    6.200000   \n",
       "\n",
       "               ca         num  \n",
       "count  920.000000  920.000000  \n",
       "mean     0.227174    0.995652  \n",
       "std      0.628936    1.142693  \n",
       "min      0.000000    0.000000  \n",
       "25%      0.000000    0.000000  \n",
       "50%      0.000000    1.000000  \n",
       "75%      0.000000    2.000000  \n",
       "max      3.000000    4.000000  "
      ]
     },
     "execution_count": 133,
     "metadata": {},
     "output_type": "execute_result"
    }
   ],
   "source": [
    "X.describe()"
   ]
  },
  {
   "cell_type": "markdown",
   "id": "f446d05b",
   "metadata": {},
   "source": [
    "# 4. Обработка категориальных признаков"
   ]
  },
  {
   "cell_type": "code",
   "execution_count": 134,
   "id": "68aad285",
   "metadata": {},
   "outputs": [
    {
     "data": {
      "text/html": [
       "<div>\n",
       "<style scoped>\n",
       "    .dataframe tbody tr th:only-of-type {\n",
       "        vertical-align: middle;\n",
       "    }\n",
       "\n",
       "    .dataframe tbody tr th {\n",
       "        vertical-align: top;\n",
       "    }\n",
       "\n",
       "    .dataframe thead th {\n",
       "        text-align: right;\n",
       "    }\n",
       "</style>\n",
       "<table border=\"1\" class=\"dataframe\">\n",
       "  <thead>\n",
       "    <tr style=\"text-align: right;\">\n",
       "      <th></th>\n",
       "      <th>sex</th>\n",
       "      <th>dataset</th>\n",
       "      <th>cp</th>\n",
       "      <th>fbs</th>\n",
       "      <th>restecg</th>\n",
       "      <th>exang</th>\n",
       "      <th>slope</th>\n",
       "      <th>thal</th>\n",
       "    </tr>\n",
       "  </thead>\n",
       "  <tbody>\n",
       "    <tr>\n",
       "      <th>count</th>\n",
       "      <td>920</td>\n",
       "      <td>920</td>\n",
       "      <td>920</td>\n",
       "      <td>920</td>\n",
       "      <td>920</td>\n",
       "      <td>920</td>\n",
       "      <td>920</td>\n",
       "      <td>920</td>\n",
       "    </tr>\n",
       "    <tr>\n",
       "      <th>unique</th>\n",
       "      <td>2</td>\n",
       "      <td>4</td>\n",
       "      <td>4</td>\n",
       "      <td>2</td>\n",
       "      <td>3</td>\n",
       "      <td>2</td>\n",
       "      <td>3</td>\n",
       "      <td>3</td>\n",
       "    </tr>\n",
       "    <tr>\n",
       "      <th>top</th>\n",
       "      <td>Male</td>\n",
       "      <td>Cleveland</td>\n",
       "      <td>asymptomatic</td>\n",
       "      <td>False</td>\n",
       "      <td>normal</td>\n",
       "      <td>False</td>\n",
       "      <td>flat</td>\n",
       "      <td>normal</td>\n",
       "    </tr>\n",
       "    <tr>\n",
       "      <th>freq</th>\n",
       "      <td>726</td>\n",
       "      <td>304</td>\n",
       "      <td>496</td>\n",
       "      <td>782</td>\n",
       "      <td>553</td>\n",
       "      <td>583</td>\n",
       "      <td>654</td>\n",
       "      <td>682</td>\n",
       "    </tr>\n",
       "  </tbody>\n",
       "</table>\n",
       "</div>"
      ],
      "text/plain": [
       "         sex    dataset            cp    fbs restecg  exang slope    thal\n",
       "count    920        920           920    920     920    920   920     920\n",
       "unique     2          4             4      2       3      2     3       3\n",
       "top     Male  Cleveland  asymptomatic  False  normal  False  flat  normal\n",
       "freq     726        304           496    782     553    583   654     682"
      ]
     },
     "execution_count": 134,
     "metadata": {},
     "output_type": "execute_result"
    }
   ],
   "source": [
    "X.describe(include=['category'])"
   ]
  },
  {
   "cell_type": "markdown",
   "id": "8358ee50",
   "metadata": {},
   "source": [
    "Видно что категориальные признаки принимают 2,3 либо 4 значения. Для признаков, принимающих 2 значения одно значение будет = 0, другое = 1. Для признаков, принимающих 3,4 значения применим метод бинаризации"
   ]
  },
  {
   "cell_type": "code",
   "execution_count": 135,
   "id": "d80b54ff",
   "metadata": {},
   "outputs": [],
   "source": [
    "X['sex'] = X['sex'].cat.codes\n",
    "X['fbs'] = X['fbs'].cat.codes\n",
    "X['exang'] = X['exang'].cat.codes"
   ]
  },
  {
   "cell_type": "code",
   "execution_count": 136,
   "id": "0590bdd7",
   "metadata": {},
   "outputs": [
    {
     "data": {
      "text/html": [
       "<div>\n",
       "<style scoped>\n",
       "    .dataframe tbody tr th:only-of-type {\n",
       "        vertical-align: middle;\n",
       "    }\n",
       "\n",
       "    .dataframe tbody tr th {\n",
       "        vertical-align: top;\n",
       "    }\n",
       "\n",
       "    .dataframe thead th {\n",
       "        text-align: right;\n",
       "    }\n",
       "</style>\n",
       "<table border=\"1\" class=\"dataframe\">\n",
       "  <thead>\n",
       "    <tr style=\"text-align: right;\">\n",
       "      <th></th>\n",
       "      <th>dataset</th>\n",
       "      <th>cp</th>\n",
       "      <th>restecg</th>\n",
       "      <th>slope</th>\n",
       "      <th>thal</th>\n",
       "    </tr>\n",
       "  </thead>\n",
       "  <tbody>\n",
       "    <tr>\n",
       "      <th>count</th>\n",
       "      <td>920</td>\n",
       "      <td>920</td>\n",
       "      <td>920</td>\n",
       "      <td>920</td>\n",
       "      <td>920</td>\n",
       "    </tr>\n",
       "    <tr>\n",
       "      <th>unique</th>\n",
       "      <td>4</td>\n",
       "      <td>4</td>\n",
       "      <td>3</td>\n",
       "      <td>3</td>\n",
       "      <td>3</td>\n",
       "    </tr>\n",
       "    <tr>\n",
       "      <th>top</th>\n",
       "      <td>Cleveland</td>\n",
       "      <td>asymptomatic</td>\n",
       "      <td>normal</td>\n",
       "      <td>flat</td>\n",
       "      <td>normal</td>\n",
       "    </tr>\n",
       "    <tr>\n",
       "      <th>freq</th>\n",
       "      <td>304</td>\n",
       "      <td>496</td>\n",
       "      <td>553</td>\n",
       "      <td>654</td>\n",
       "      <td>682</td>\n",
       "    </tr>\n",
       "  </tbody>\n",
       "</table>\n",
       "</div>"
      ],
      "text/plain": [
       "          dataset            cp restecg slope    thal\n",
       "count         920           920     920   920     920\n",
       "unique          4             4       3     3       3\n",
       "top     Cleveland  asymptomatic  normal  flat  normal\n",
       "freq          304           496     553   654     682"
      ]
     },
     "execution_count": 136,
     "metadata": {},
     "output_type": "execute_result"
    }
   ],
   "source": [
    "X.describe(include=['category'])"
   ]
  },
  {
   "cell_type": "code",
   "execution_count": 137,
   "id": "124cfbf1",
   "metadata": {},
   "outputs": [
    {
     "data": {
      "text/html": [
       "<div>\n",
       "<style scoped>\n",
       "    .dataframe tbody tr th:only-of-type {\n",
       "        vertical-align: middle;\n",
       "    }\n",
       "\n",
       "    .dataframe tbody tr th {\n",
       "        vertical-align: top;\n",
       "    }\n",
       "\n",
       "    .dataframe thead th {\n",
       "        text-align: right;\n",
       "    }\n",
       "</style>\n",
       "<table border=\"1\" class=\"dataframe\">\n",
       "  <thead>\n",
       "    <tr style=\"text-align: right;\">\n",
       "      <th></th>\n",
       "      <th>id</th>\n",
       "      <th>age</th>\n",
       "      <th>sex</th>\n",
       "      <th>trestbps</th>\n",
       "      <th>chol</th>\n",
       "      <th>fbs</th>\n",
       "      <th>thalch</th>\n",
       "      <th>exang</th>\n",
       "      <th>oldpeak</th>\n",
       "      <th>ca</th>\n",
       "      <th>num</th>\n",
       "    </tr>\n",
       "  </thead>\n",
       "  <tbody>\n",
       "    <tr>\n",
       "      <th>count</th>\n",
       "      <td>920.000000</td>\n",
       "      <td>920.000000</td>\n",
       "      <td>920.000000</td>\n",
       "      <td>920.000000</td>\n",
       "      <td>920.000000</td>\n",
       "      <td>920.000000</td>\n",
       "      <td>920.000000</td>\n",
       "      <td>920.000000</td>\n",
       "      <td>920.000000</td>\n",
       "      <td>920.000000</td>\n",
       "      <td>920.000000</td>\n",
       "    </tr>\n",
       "    <tr>\n",
       "      <th>mean</th>\n",
       "      <td>460.500000</td>\n",
       "      <td>53.510870</td>\n",
       "      <td>0.789130</td>\n",
       "      <td>131.995652</td>\n",
       "      <td>199.908696</td>\n",
       "      <td>0.150000</td>\n",
       "      <td>137.692391</td>\n",
       "      <td>0.366304</td>\n",
       "      <td>0.853261</td>\n",
       "      <td>0.227174</td>\n",
       "      <td>0.995652</td>\n",
       "    </tr>\n",
       "    <tr>\n",
       "      <th>std</th>\n",
       "      <td>265.725422</td>\n",
       "      <td>9.424685</td>\n",
       "      <td>0.408148</td>\n",
       "      <td>18.451300</td>\n",
       "      <td>109.040171</td>\n",
       "      <td>0.357266</td>\n",
       "      <td>25.145235</td>\n",
       "      <td>0.482056</td>\n",
       "      <td>1.058049</td>\n",
       "      <td>0.628936</td>\n",
       "      <td>1.142693</td>\n",
       "    </tr>\n",
       "    <tr>\n",
       "      <th>min</th>\n",
       "      <td>1.000000</td>\n",
       "      <td>28.000000</td>\n",
       "      <td>0.000000</td>\n",
       "      <td>0.000000</td>\n",
       "      <td>0.000000</td>\n",
       "      <td>0.000000</td>\n",
       "      <td>60.000000</td>\n",
       "      <td>0.000000</td>\n",
       "      <td>-2.600000</td>\n",
       "      <td>0.000000</td>\n",
       "      <td>0.000000</td>\n",
       "    </tr>\n",
       "    <tr>\n",
       "      <th>25%</th>\n",
       "      <td>230.750000</td>\n",
       "      <td>47.000000</td>\n",
       "      <td>1.000000</td>\n",
       "      <td>120.000000</td>\n",
       "      <td>177.750000</td>\n",
       "      <td>0.000000</td>\n",
       "      <td>120.000000</td>\n",
       "      <td>0.000000</td>\n",
       "      <td>0.000000</td>\n",
       "      <td>0.000000</td>\n",
       "      <td>0.000000</td>\n",
       "    </tr>\n",
       "    <tr>\n",
       "      <th>50%</th>\n",
       "      <td>460.500000</td>\n",
       "      <td>54.000000</td>\n",
       "      <td>1.000000</td>\n",
       "      <td>130.000000</td>\n",
       "      <td>223.000000</td>\n",
       "      <td>0.000000</td>\n",
       "      <td>140.000000</td>\n",
       "      <td>0.000000</td>\n",
       "      <td>0.500000</td>\n",
       "      <td>0.000000</td>\n",
       "      <td>1.000000</td>\n",
       "    </tr>\n",
       "    <tr>\n",
       "      <th>75%</th>\n",
       "      <td>690.250000</td>\n",
       "      <td>60.000000</td>\n",
       "      <td>1.000000</td>\n",
       "      <td>140.000000</td>\n",
       "      <td>267.000000</td>\n",
       "      <td>0.000000</td>\n",
       "      <td>156.000000</td>\n",
       "      <td>1.000000</td>\n",
       "      <td>1.500000</td>\n",
       "      <td>0.000000</td>\n",
       "      <td>2.000000</td>\n",
       "    </tr>\n",
       "    <tr>\n",
       "      <th>max</th>\n",
       "      <td>920.000000</td>\n",
       "      <td>77.000000</td>\n",
       "      <td>1.000000</td>\n",
       "      <td>200.000000</td>\n",
       "      <td>603.000000</td>\n",
       "      <td>1.000000</td>\n",
       "      <td>202.000000</td>\n",
       "      <td>1.000000</td>\n",
       "      <td>6.200000</td>\n",
       "      <td>3.000000</td>\n",
       "      <td>4.000000</td>\n",
       "    </tr>\n",
       "  </tbody>\n",
       "</table>\n",
       "</div>"
      ],
      "text/plain": [
       "               id         age         sex    trestbps        chol         fbs  \\\n",
       "count  920.000000  920.000000  920.000000  920.000000  920.000000  920.000000   \n",
       "mean   460.500000   53.510870    0.789130  131.995652  199.908696    0.150000   \n",
       "std    265.725422    9.424685    0.408148   18.451300  109.040171    0.357266   \n",
       "min      1.000000   28.000000    0.000000    0.000000    0.000000    0.000000   \n",
       "25%    230.750000   47.000000    1.000000  120.000000  177.750000    0.000000   \n",
       "50%    460.500000   54.000000    1.000000  130.000000  223.000000    0.000000   \n",
       "75%    690.250000   60.000000    1.000000  140.000000  267.000000    0.000000   \n",
       "max    920.000000   77.000000    1.000000  200.000000  603.000000    1.000000   \n",
       "\n",
       "           thalch       exang     oldpeak          ca         num  \n",
       "count  920.000000  920.000000  920.000000  920.000000  920.000000  \n",
       "mean   137.692391    0.366304    0.853261    0.227174    0.995652  \n",
       "std     25.145235    0.482056    1.058049    0.628936    1.142693  \n",
       "min     60.000000    0.000000   -2.600000    0.000000    0.000000  \n",
       "25%    120.000000    0.000000    0.000000    0.000000    0.000000  \n",
       "50%    140.000000    0.000000    0.500000    0.000000    1.000000  \n",
       "75%    156.000000    1.000000    1.500000    0.000000    2.000000  \n",
       "max    202.000000    1.000000    6.200000    3.000000    4.000000  "
      ]
     },
     "execution_count": 137,
     "metadata": {},
     "output_type": "execute_result"
    }
   ],
   "source": [
    "X.describe()"
   ]
  },
  {
   "cell_type": "markdown",
   "id": "19da7f66",
   "metadata": {},
   "source": [
    "Можем убедиться что 3 категориальных признака, принимающих 2 значения стали количественными. Например видно, что примерно 79% - мужчины, 21% - женщины"
   ]
  },
  {
   "cell_type": "code",
   "execution_count": 138,
   "id": "381fa032",
   "metadata": {},
   "outputs": [],
   "source": [
    "dataset_dummies = pd.get_dummies(X['dataset'])"
   ]
  },
  {
   "cell_type": "code",
   "execution_count": 139,
   "id": "2690143b",
   "metadata": {},
   "outputs": [
    {
     "data": {
      "text/html": [
       "<div>\n",
       "<style scoped>\n",
       "    .dataframe tbody tr th:only-of-type {\n",
       "        vertical-align: middle;\n",
       "    }\n",
       "\n",
       "    .dataframe tbody tr th {\n",
       "        vertical-align: top;\n",
       "    }\n",
       "\n",
       "    .dataframe thead th {\n",
       "        text-align: right;\n",
       "    }\n",
       "</style>\n",
       "<table border=\"1\" class=\"dataframe\">\n",
       "  <thead>\n",
       "    <tr style=\"text-align: right;\">\n",
       "      <th></th>\n",
       "      <th>Cleveland</th>\n",
       "      <th>Hungary</th>\n",
       "      <th>Switzerland</th>\n",
       "      <th>VA Long Beach</th>\n",
       "    </tr>\n",
       "  </thead>\n",
       "  <tbody>\n",
       "    <tr>\n",
       "      <th>0</th>\n",
       "      <td>1</td>\n",
       "      <td>0</td>\n",
       "      <td>0</td>\n",
       "      <td>0</td>\n",
       "    </tr>\n",
       "    <tr>\n",
       "      <th>1</th>\n",
       "      <td>1</td>\n",
       "      <td>0</td>\n",
       "      <td>0</td>\n",
       "      <td>0</td>\n",
       "    </tr>\n",
       "    <tr>\n",
       "      <th>2</th>\n",
       "      <td>1</td>\n",
       "      <td>0</td>\n",
       "      <td>0</td>\n",
       "      <td>0</td>\n",
       "    </tr>\n",
       "    <tr>\n",
       "      <th>3</th>\n",
       "      <td>1</td>\n",
       "      <td>0</td>\n",
       "      <td>0</td>\n",
       "      <td>0</td>\n",
       "    </tr>\n",
       "    <tr>\n",
       "      <th>4</th>\n",
       "      <td>1</td>\n",
       "      <td>0</td>\n",
       "      <td>0</td>\n",
       "      <td>0</td>\n",
       "    </tr>\n",
       "  </tbody>\n",
       "</table>\n",
       "</div>"
      ],
      "text/plain": [
       "   Cleveland  Hungary  Switzerland  VA Long Beach\n",
       "0          1        0            0              0\n",
       "1          1        0            0              0\n",
       "2          1        0            0              0\n",
       "3          1        0            0              0\n",
       "4          1        0            0              0"
      ]
     },
     "execution_count": 139,
     "metadata": {},
     "output_type": "execute_result"
    }
   ],
   "source": [
    "dataset_dummies.head()"
   ]
  },
  {
   "cell_type": "code",
   "execution_count": 140,
   "id": "b09ac24a",
   "metadata": {},
   "outputs": [],
   "source": [
    "cp_dummies = pd.get_dummies(X['cp'])\n",
    "restecg_dummies = pd.get_dummies(X['restecg'])\n",
    "slope_dummies = pd.get_dummies(X['slope'])\n",
    "thal_dummies = pd.get_dummies(X['thal'])"
   ]
  },
  {
   "cell_type": "code",
   "execution_count": 141,
   "id": "13e5e6a1",
   "metadata": {},
   "outputs": [],
   "source": [
    "X = pd.concat((X, dataset_dummies), axis=1)\n",
    "X = pd.concat((X, cp_dummies), axis=1)\n",
    "X = pd.concat((X, pd.get_dummies(X['restecg'])\n",
    "), axis=1)\n",
    "X = pd.concat((X, slope_dummies), axis=1)\n",
    "X = pd.concat((X, thal_dummies), axis=1)\n",
    "\n",
    "X = X.drop(['dataset'], axis=1)\n",
    "X = X.drop(['cp'], axis=1)\n",
    "X = X.drop(['restecg'], axis=1)\n",
    "X = X.drop(['slope'], axis=1)\n",
    "X = X.drop(['thal'], axis=1)"
   ]
  },
  {
   "cell_type": "code",
   "execution_count": 142,
   "id": "84044d4b",
   "metadata": {},
   "outputs": [
    {
     "data": {
      "text/html": [
       "<div>\n",
       "<style scoped>\n",
       "    .dataframe tbody tr th:only-of-type {\n",
       "        vertical-align: middle;\n",
       "    }\n",
       "\n",
       "    .dataframe tbody tr th {\n",
       "        vertical-align: top;\n",
       "    }\n",
       "\n",
       "    .dataframe thead th {\n",
       "        text-align: right;\n",
       "    }\n",
       "</style>\n",
       "<table border=\"1\" class=\"dataframe\">\n",
       "  <thead>\n",
       "    <tr style=\"text-align: right;\">\n",
       "      <th></th>\n",
       "      <th>id</th>\n",
       "      <th>age</th>\n",
       "      <th>sex</th>\n",
       "      <th>trestbps</th>\n",
       "      <th>chol</th>\n",
       "      <th>fbs</th>\n",
       "      <th>thalch</th>\n",
       "      <th>exang</th>\n",
       "      <th>oldpeak</th>\n",
       "      <th>ca</th>\n",
       "      <th>...</th>\n",
       "      <th>typical angina</th>\n",
       "      <th>lv hypertrophy</th>\n",
       "      <th>normal</th>\n",
       "      <th>st-t abnormality</th>\n",
       "      <th>downsloping</th>\n",
       "      <th>flat</th>\n",
       "      <th>upsloping</th>\n",
       "      <th>fixed defect</th>\n",
       "      <th>normal</th>\n",
       "      <th>reversable defect</th>\n",
       "    </tr>\n",
       "  </thead>\n",
       "  <tbody>\n",
       "    <tr>\n",
       "      <th>0</th>\n",
       "      <td>1</td>\n",
       "      <td>63</td>\n",
       "      <td>1</td>\n",
       "      <td>145.0</td>\n",
       "      <td>233.0</td>\n",
       "      <td>1</td>\n",
       "      <td>150.0</td>\n",
       "      <td>0</td>\n",
       "      <td>2.3</td>\n",
       "      <td>0.0</td>\n",
       "      <td>...</td>\n",
       "      <td>1</td>\n",
       "      <td>1</td>\n",
       "      <td>0</td>\n",
       "      <td>0</td>\n",
       "      <td>1</td>\n",
       "      <td>0</td>\n",
       "      <td>0</td>\n",
       "      <td>1</td>\n",
       "      <td>0</td>\n",
       "      <td>0</td>\n",
       "    </tr>\n",
       "    <tr>\n",
       "      <th>1</th>\n",
       "      <td>2</td>\n",
       "      <td>67</td>\n",
       "      <td>1</td>\n",
       "      <td>160.0</td>\n",
       "      <td>286.0</td>\n",
       "      <td>0</td>\n",
       "      <td>108.0</td>\n",
       "      <td>1</td>\n",
       "      <td>1.5</td>\n",
       "      <td>3.0</td>\n",
       "      <td>...</td>\n",
       "      <td>0</td>\n",
       "      <td>1</td>\n",
       "      <td>0</td>\n",
       "      <td>0</td>\n",
       "      <td>0</td>\n",
       "      <td>1</td>\n",
       "      <td>0</td>\n",
       "      <td>0</td>\n",
       "      <td>1</td>\n",
       "      <td>0</td>\n",
       "    </tr>\n",
       "    <tr>\n",
       "      <th>2</th>\n",
       "      <td>3</td>\n",
       "      <td>67</td>\n",
       "      <td>1</td>\n",
       "      <td>120.0</td>\n",
       "      <td>229.0</td>\n",
       "      <td>0</td>\n",
       "      <td>129.0</td>\n",
       "      <td>1</td>\n",
       "      <td>2.6</td>\n",
       "      <td>2.0</td>\n",
       "      <td>...</td>\n",
       "      <td>0</td>\n",
       "      <td>1</td>\n",
       "      <td>0</td>\n",
       "      <td>0</td>\n",
       "      <td>0</td>\n",
       "      <td>1</td>\n",
       "      <td>0</td>\n",
       "      <td>0</td>\n",
       "      <td>0</td>\n",
       "      <td>1</td>\n",
       "    </tr>\n",
       "    <tr>\n",
       "      <th>3</th>\n",
       "      <td>4</td>\n",
       "      <td>37</td>\n",
       "      <td>1</td>\n",
       "      <td>130.0</td>\n",
       "      <td>250.0</td>\n",
       "      <td>0</td>\n",
       "      <td>187.0</td>\n",
       "      <td>0</td>\n",
       "      <td>3.5</td>\n",
       "      <td>0.0</td>\n",
       "      <td>...</td>\n",
       "      <td>0</td>\n",
       "      <td>0</td>\n",
       "      <td>1</td>\n",
       "      <td>0</td>\n",
       "      <td>1</td>\n",
       "      <td>0</td>\n",
       "      <td>0</td>\n",
       "      <td>0</td>\n",
       "      <td>1</td>\n",
       "      <td>0</td>\n",
       "    </tr>\n",
       "    <tr>\n",
       "      <th>4</th>\n",
       "      <td>5</td>\n",
       "      <td>41</td>\n",
       "      <td>0</td>\n",
       "      <td>130.0</td>\n",
       "      <td>204.0</td>\n",
       "      <td>0</td>\n",
       "      <td>172.0</td>\n",
       "      <td>0</td>\n",
       "      <td>1.4</td>\n",
       "      <td>0.0</td>\n",
       "      <td>...</td>\n",
       "      <td>0</td>\n",
       "      <td>1</td>\n",
       "      <td>0</td>\n",
       "      <td>0</td>\n",
       "      <td>0</td>\n",
       "      <td>0</td>\n",
       "      <td>1</td>\n",
       "      <td>0</td>\n",
       "      <td>1</td>\n",
       "      <td>0</td>\n",
       "    </tr>\n",
       "  </tbody>\n",
       "</table>\n",
       "<p>5 rows × 28 columns</p>\n",
       "</div>"
      ],
      "text/plain": [
       "   id  age  sex  trestbps   chol  fbs  thalch  exang  oldpeak   ca  ...  \\\n",
       "0   1   63    1     145.0  233.0    1   150.0      0      2.3  0.0  ...   \n",
       "1   2   67    1     160.0  286.0    0   108.0      1      1.5  3.0  ...   \n",
       "2   3   67    1     120.0  229.0    0   129.0      1      2.6  2.0  ...   \n",
       "3   4   37    1     130.0  250.0    0   187.0      0      3.5  0.0  ...   \n",
       "4   5   41    0     130.0  204.0    0   172.0      0      1.4  0.0  ...   \n",
       "\n",
       "   typical angina  lv hypertrophy  normal  st-t abnormality  downsloping  \\\n",
       "0               1               1       0                 0            1   \n",
       "1               0               1       0                 0            0   \n",
       "2               0               1       0                 0            0   \n",
       "3               0               0       1                 0            1   \n",
       "4               0               1       0                 0            0   \n",
       "\n",
       "   flat  upsloping  fixed defect  normal  reversable defect  \n",
       "0     0          0             1       0                  0  \n",
       "1     1          0             0       1                  0  \n",
       "2     1          0             0       0                  1  \n",
       "3     0          0             0       1                  0  \n",
       "4     0          1             0       1                  0  \n",
       "\n",
       "[5 rows x 28 columns]"
      ]
     },
     "execution_count": 142,
     "metadata": {},
     "output_type": "execute_result"
    }
   ],
   "source": [
    "X.head()"
   ]
  },
  {
   "cell_type": "code",
   "execution_count": 143,
   "id": "d85a8d52",
   "metadata": {},
   "outputs": [
    {
     "data": {
      "text/plain": [
       "(920, 28)"
      ]
     },
     "execution_count": 143,
     "metadata": {},
     "output_type": "execute_result"
    }
   ],
   "source": [
    "X.shape"
   ]
  },
  {
   "cell_type": "markdown",
   "id": "c898f3d3",
   "metadata": {},
   "source": [
    "Признаков стало больше, а именно 28, при начальных 16. Но есть и плюсы, они все количественные"
   ]
  },
  {
   "cell_type": "markdown",
   "id": "2039b1bf",
   "metadata": {},
   "source": [
    "# 5. Нормализация количественных признаков"
   ]
  },
  {
   "cell_type": "code",
   "execution_count": 144,
   "id": "8e56564d",
   "metadata": {},
   "outputs": [
    {
     "data": {
      "text/html": [
       "<div>\n",
       "<style scoped>\n",
       "    .dataframe tbody tr th:only-of-type {\n",
       "        vertical-align: middle;\n",
       "    }\n",
       "\n",
       "    .dataframe tbody tr th {\n",
       "        vertical-align: top;\n",
       "    }\n",
       "\n",
       "    .dataframe thead th {\n",
       "        text-align: right;\n",
       "    }\n",
       "</style>\n",
       "<table border=\"1\" class=\"dataframe\">\n",
       "  <thead>\n",
       "    <tr style=\"text-align: right;\">\n",
       "      <th></th>\n",
       "      <th>id</th>\n",
       "      <th>age</th>\n",
       "      <th>sex</th>\n",
       "      <th>trestbps</th>\n",
       "      <th>chol</th>\n",
       "      <th>fbs</th>\n",
       "      <th>thalch</th>\n",
       "      <th>exang</th>\n",
       "      <th>oldpeak</th>\n",
       "      <th>ca</th>\n",
       "      <th>...</th>\n",
       "      <th>typical angina</th>\n",
       "      <th>lv hypertrophy</th>\n",
       "      <th>normal</th>\n",
       "      <th>st-t abnormality</th>\n",
       "      <th>downsloping</th>\n",
       "      <th>flat</th>\n",
       "      <th>upsloping</th>\n",
       "      <th>fixed defect</th>\n",
       "      <th>normal</th>\n",
       "      <th>reversable defect</th>\n",
       "    </tr>\n",
       "  </thead>\n",
       "  <tbody>\n",
       "    <tr>\n",
       "      <th>count</th>\n",
       "      <td>9.200000e+02</td>\n",
       "      <td>9.200000e+02</td>\n",
       "      <td>9.200000e+02</td>\n",
       "      <td>9.200000e+02</td>\n",
       "      <td>9.200000e+02</td>\n",
       "      <td>9.200000e+02</td>\n",
       "      <td>9.200000e+02</td>\n",
       "      <td>9.200000e+02</td>\n",
       "      <td>9.200000e+02</td>\n",
       "      <td>9.200000e+02</td>\n",
       "      <td>...</td>\n",
       "      <td>9.200000e+02</td>\n",
       "      <td>9.200000e+02</td>\n",
       "      <td>9.200000e+02</td>\n",
       "      <td>9.200000e+02</td>\n",
       "      <td>9.200000e+02</td>\n",
       "      <td>9.200000e+02</td>\n",
       "      <td>9.200000e+02</td>\n",
       "      <td>9.200000e+02</td>\n",
       "      <td>9.200000e+02</td>\n",
       "      <td>9.200000e+02</td>\n",
       "    </tr>\n",
       "    <tr>\n",
       "      <th>mean</th>\n",
       "      <td>-6.347579e-17</td>\n",
       "      <td>1.320200e-16</td>\n",
       "      <td>-8.630777e-16</td>\n",
       "      <td>-1.255035e-17</td>\n",
       "      <td>1.305719e-15</td>\n",
       "      <td>-1.285626e-15</td>\n",
       "      <td>-1.170320e-15</td>\n",
       "      <td>7.508487e-16</td>\n",
       "      <td>-8.169793e-17</td>\n",
       "      <td>3.634170e-15</td>\n",
       "      <td>...</td>\n",
       "      <td>7.958610e-17</td>\n",
       "      <td>-3.590365e-15</td>\n",
       "      <td>-6.289655e-16</td>\n",
       "      <td>-2.331589e-15</td>\n",
       "      <td>5.049101e-16</td>\n",
       "      <td>1.483837e-15</td>\n",
       "      <td>-1.646992e-15</td>\n",
       "      <td>-8.417180e-17</td>\n",
       "      <td>-1.151253e-16</td>\n",
       "      <td>-4.991177e-16</td>\n",
       "    </tr>\n",
       "    <tr>\n",
       "      <th>std</th>\n",
       "      <td>1.000000e+00</td>\n",
       "      <td>1.000000e+00</td>\n",
       "      <td>1.000000e+00</td>\n",
       "      <td>1.000000e+00</td>\n",
       "      <td>1.000000e+00</td>\n",
       "      <td>1.000000e+00</td>\n",
       "      <td>1.000000e+00</td>\n",
       "      <td>1.000000e+00</td>\n",
       "      <td>1.000000e+00</td>\n",
       "      <td>1.000000e+00</td>\n",
       "      <td>...</td>\n",
       "      <td>1.000000e+00</td>\n",
       "      <td>1.000000e+00</td>\n",
       "      <td>1.000000e+00</td>\n",
       "      <td>1.000000e+00</td>\n",
       "      <td>1.000000e+00</td>\n",
       "      <td>1.000000e+00</td>\n",
       "      <td>1.000000e+00</td>\n",
       "      <td>1.000000e+00</td>\n",
       "      <td>1.000000e+00</td>\n",
       "      <td>1.000000e+00</td>\n",
       "    </tr>\n",
       "    <tr>\n",
       "      <th>min</th>\n",
       "      <td>-1.729229e+00</td>\n",
       "      <td>-2.706814e+00</td>\n",
       "      <td>-1.933443e+00</td>\n",
       "      <td>-7.153732e+00</td>\n",
       "      <td>-1.833349e+00</td>\n",
       "      <td>-4.198557e-01</td>\n",
       "      <td>-3.089746e+00</td>\n",
       "      <td>-7.598791e-01</td>\n",
       "      <td>-3.263801e+00</td>\n",
       "      <td>-3.612033e-01</td>\n",
       "      <td>...</td>\n",
       "      <td>-2.292910e-01</td>\n",
       "      <td>-5.065091e-01</td>\n",
       "      <td>-1.226855e+00</td>\n",
       "      <td>-4.912259e-01</td>\n",
       "      <td>-2.709840e-01</td>\n",
       "      <td>-1.567155e+00</td>\n",
       "      <td>-5.318048e-01</td>\n",
       "      <td>-2.292910e-01</td>\n",
       "      <td>-1.691872e+00</td>\n",
       "      <td>-5.132734e-01</td>\n",
       "    </tr>\n",
       "    <tr>\n",
       "      <th>25%</th>\n",
       "      <td>-8.646143e-01</td>\n",
       "      <td>-6.908315e-01</td>\n",
       "      <td>5.166500e-01</td>\n",
       "      <td>-6.501250e-01</td>\n",
       "      <td>-2.032159e-01</td>\n",
       "      <td>-4.198557e-01</td>\n",
       "      <td>-7.036081e-01</td>\n",
       "      <td>-7.598791e-01</td>\n",
       "      <td>-8.064476e-01</td>\n",
       "      <td>-3.612033e-01</td>\n",
       "      <td>...</td>\n",
       "      <td>-2.292910e-01</td>\n",
       "      <td>-5.065091e-01</td>\n",
       "      <td>-1.226855e+00</td>\n",
       "      <td>-4.912259e-01</td>\n",
       "      <td>-2.709840e-01</td>\n",
       "      <td>-1.567155e+00</td>\n",
       "      <td>-5.318048e-01</td>\n",
       "      <td>-2.292910e-01</td>\n",
       "      <td>-1.691872e+00</td>\n",
       "      <td>-5.132734e-01</td>\n",
       "    </tr>\n",
       "    <tr>\n",
       "      <th>50%</th>\n",
       "      <td>0.000000e+00</td>\n",
       "      <td>5.189886e-02</td>\n",
       "      <td>5.166500e-01</td>\n",
       "      <td>-1.081578e-01</td>\n",
       "      <td>2.117688e-01</td>\n",
       "      <td>-4.198557e-01</td>\n",
       "      <td>9.177121e-02</td>\n",
       "      <td>-7.598791e-01</td>\n",
       "      <td>-3.338796e-01</td>\n",
       "      <td>-3.612033e-01</td>\n",
       "      <td>...</td>\n",
       "      <td>-2.292910e-01</td>\n",
       "      <td>-5.065091e-01</td>\n",
       "      <td>8.142060e-01</td>\n",
       "      <td>-4.912259e-01</td>\n",
       "      <td>-2.709840e-01</td>\n",
       "      <td>6.374055e-01</td>\n",
       "      <td>-5.318048e-01</td>\n",
       "      <td>-2.292910e-01</td>\n",
       "      <td>5.904187e-01</td>\n",
       "      <td>-5.132734e-01</td>\n",
       "    </tr>\n",
       "    <tr>\n",
       "      <th>75%</th>\n",
       "      <td>8.646143e-01</td>\n",
       "      <td>6.885249e-01</td>\n",
       "      <td>5.166500e-01</td>\n",
       "      <td>4.338094e-01</td>\n",
       "      <td>6.152898e-01</td>\n",
       "      <td>-4.198557e-01</td>\n",
       "      <td>7.280747e-01</td>\n",
       "      <td>1.314568e+00</td>\n",
       "      <td>6.112565e-01</td>\n",
       "      <td>-3.612033e-01</td>\n",
       "      <td>...</td>\n",
       "      <td>-2.292910e-01</td>\n",
       "      <td>-5.065091e-01</td>\n",
       "      <td>8.142060e-01</td>\n",
       "      <td>-4.912259e-01</td>\n",
       "      <td>-2.709840e-01</td>\n",
       "      <td>6.374055e-01</td>\n",
       "      <td>-5.318048e-01</td>\n",
       "      <td>-2.292910e-01</td>\n",
       "      <td>5.904187e-01</td>\n",
       "      <td>-5.132734e-01</td>\n",
       "    </tr>\n",
       "    <tr>\n",
       "      <th>max</th>\n",
       "      <td>1.729229e+00</td>\n",
       "      <td>2.492299e+00</td>\n",
       "      <td>5.166500e-01</td>\n",
       "      <td>3.685613e+00</td>\n",
       "      <td>3.696723e+00</td>\n",
       "      <td>2.379182e+00</td>\n",
       "      <td>2.557447e+00</td>\n",
       "      <td>1.314568e+00</td>\n",
       "      <td>5.053396e+00</td>\n",
       "      <td>4.408754e+00</td>\n",
       "      <td>...</td>\n",
       "      <td>4.356529e+00</td>\n",
       "      <td>1.972152e+00</td>\n",
       "      <td>8.142060e-01</td>\n",
       "      <td>2.033511e+00</td>\n",
       "      <td>3.686243e+00</td>\n",
       "      <td>6.374055e-01</td>\n",
       "      <td>1.878345e+00</td>\n",
       "      <td>4.356529e+00</td>\n",
       "      <td>5.904187e-01</td>\n",
       "      <td>1.946162e+00</td>\n",
       "    </tr>\n",
       "  </tbody>\n",
       "</table>\n",
       "<p>8 rows × 28 columns</p>\n",
       "</div>"
      ],
      "text/plain": [
       "                 id           age           sex      trestbps          chol  \\\n",
       "count  9.200000e+02  9.200000e+02  9.200000e+02  9.200000e+02  9.200000e+02   \n",
       "mean  -6.347579e-17  1.320200e-16 -8.630777e-16 -1.255035e-17  1.305719e-15   \n",
       "std    1.000000e+00  1.000000e+00  1.000000e+00  1.000000e+00  1.000000e+00   \n",
       "min   -1.729229e+00 -2.706814e+00 -1.933443e+00 -7.153732e+00 -1.833349e+00   \n",
       "25%   -8.646143e-01 -6.908315e-01  5.166500e-01 -6.501250e-01 -2.032159e-01   \n",
       "50%    0.000000e+00  5.189886e-02  5.166500e-01 -1.081578e-01  2.117688e-01   \n",
       "75%    8.646143e-01  6.885249e-01  5.166500e-01  4.338094e-01  6.152898e-01   \n",
       "max    1.729229e+00  2.492299e+00  5.166500e-01  3.685613e+00  3.696723e+00   \n",
       "\n",
       "                fbs        thalch         exang       oldpeak            ca  \\\n",
       "count  9.200000e+02  9.200000e+02  9.200000e+02  9.200000e+02  9.200000e+02   \n",
       "mean  -1.285626e-15 -1.170320e-15  7.508487e-16 -8.169793e-17  3.634170e-15   \n",
       "std    1.000000e+00  1.000000e+00  1.000000e+00  1.000000e+00  1.000000e+00   \n",
       "min   -4.198557e-01 -3.089746e+00 -7.598791e-01 -3.263801e+00 -3.612033e-01   \n",
       "25%   -4.198557e-01 -7.036081e-01 -7.598791e-01 -8.064476e-01 -3.612033e-01   \n",
       "50%   -4.198557e-01  9.177121e-02 -7.598791e-01 -3.338796e-01 -3.612033e-01   \n",
       "75%   -4.198557e-01  7.280747e-01  1.314568e+00  6.112565e-01 -3.612033e-01   \n",
       "max    2.379182e+00  2.557447e+00  1.314568e+00  5.053396e+00  4.408754e+00   \n",
       "\n",
       "       ...  typical angina  lv hypertrophy        normal  st-t abnormality  \\\n",
       "count  ...    9.200000e+02    9.200000e+02  9.200000e+02      9.200000e+02   \n",
       "mean   ...    7.958610e-17   -3.590365e-15 -6.289655e-16     -2.331589e-15   \n",
       "std    ...    1.000000e+00    1.000000e+00  1.000000e+00      1.000000e+00   \n",
       "min    ...   -2.292910e-01   -5.065091e-01 -1.226855e+00     -4.912259e-01   \n",
       "25%    ...   -2.292910e-01   -5.065091e-01 -1.226855e+00     -4.912259e-01   \n",
       "50%    ...   -2.292910e-01   -5.065091e-01  8.142060e-01     -4.912259e-01   \n",
       "75%    ...   -2.292910e-01   -5.065091e-01  8.142060e-01     -4.912259e-01   \n",
       "max    ...    4.356529e+00    1.972152e+00  8.142060e-01      2.033511e+00   \n",
       "\n",
       "        downsloping          flat     upsloping  fixed defect        normal  \\\n",
       "count  9.200000e+02  9.200000e+02  9.200000e+02  9.200000e+02  9.200000e+02   \n",
       "mean   5.049101e-16  1.483837e-15 -1.646992e-15 -8.417180e-17 -1.151253e-16   \n",
       "std    1.000000e+00  1.000000e+00  1.000000e+00  1.000000e+00  1.000000e+00   \n",
       "min   -2.709840e-01 -1.567155e+00 -5.318048e-01 -2.292910e-01 -1.691872e+00   \n",
       "25%   -2.709840e-01 -1.567155e+00 -5.318048e-01 -2.292910e-01 -1.691872e+00   \n",
       "50%   -2.709840e-01  6.374055e-01 -5.318048e-01 -2.292910e-01  5.904187e-01   \n",
       "75%   -2.709840e-01  6.374055e-01 -5.318048e-01 -2.292910e-01  5.904187e-01   \n",
       "max    3.686243e+00  6.374055e-01  1.878345e+00  4.356529e+00  5.904187e-01   \n",
       "\n",
       "       reversable defect  \n",
       "count       9.200000e+02  \n",
       "mean       -4.991177e-16  \n",
       "std         1.000000e+00  \n",
       "min        -5.132734e-01  \n",
       "25%        -5.132734e-01  \n",
       "50%        -5.132734e-01  \n",
       "75%        -5.132734e-01  \n",
       "max         1.946162e+00  \n",
       "\n",
       "[8 rows x 28 columns]"
      ]
     },
     "execution_count": 144,
     "metadata": {},
     "output_type": "execute_result"
    }
   ],
   "source": [
    "X_stand = (X - X.mean(axis = 0))/X.std(axis = 0)\n",
    "X_stand.describe()"
   ]
  },
  {
   "cell_type": "markdown",
   "id": "9f65d127",
   "metadata": {},
   "source": [
    "Отбор признаков"
   ]
  },
  {
   "cell_type": "code",
   "execution_count": 145,
   "id": "4cad07b5",
   "metadata": {},
   "outputs": [
    {
     "data": {
      "text/plain": [
       "Index(['id', 'age', 'sex', 'trestbps', 'chol', 'fbs', 'thalch', 'exang',\n",
       "       'oldpeak', 'ca', 'num', 'Cleveland', 'Hungary', 'Switzerland',\n",
       "       'VA Long Beach', 'asymptomatic', 'atypical angina', 'non-anginal',\n",
       "       'typical angina', 'lv hypertrophy', 'normal', 'st-t abnormality',\n",
       "       'downsloping', 'flat', 'upsloping', 'fixed defect', 'normal',\n",
       "       'reversable defect'],\n",
       "      dtype='object')"
      ]
     },
     "execution_count": 145,
     "metadata": {},
     "output_type": "execute_result"
    }
   ],
   "source": [
    "X_stand.columns"
   ]
  },
  {
   "cell_type": "markdown",
   "id": "4fa9db5a",
   "metadata": {},
   "source": [
    "Уберём признак id, который впринципе бесполезен"
   ]
  },
  {
   "cell_type": "code",
   "execution_count": 146,
   "id": "d77ecea5",
   "metadata": {},
   "outputs": [
    {
     "data": {
      "text/plain": [
       "(920, 26)"
      ]
     },
     "execution_count": 146,
     "metadata": {},
     "output_type": "execute_result"
    }
   ],
   "source": [
    "Z = X_stand.drop(['num', 'id'], axis=1)\n",
    "y = X['num']\n",
    "Z.shape"
   ]
  },
  {
   "cell_type": "markdown",
   "id": "a53f07ee",
   "metadata": {},
   "source": [
    "# 6.Разбиение данных на выборки"
   ]
  },
  {
   "cell_type": "markdown",
   "id": "fc6cab95",
   "metadata": {},
   "source": [
    "Разобьем данные на обучающую и тестовую выборки в пропорции 3:1 (75% - обучающая выборка, 25% - тестовая):"
   ]
  },
  {
   "cell_type": "code",
   "execution_count": 147,
   "id": "d73b04ce",
   "metadata": {},
   "outputs": [
    {
     "data": {
      "text/plain": [
       "(690, 230)"
      ]
     },
     "execution_count": 147,
     "metadata": {},
     "output_type": "execute_result"
    }
   ],
   "source": [
    "from sklearn.model_selection import train_test_split\n",
    "X_train, X_test, y_train, y_test = train_test_split(Z, y, test_size = 0.25, random_state = 42)\n",
    "\n",
    "N_train, _ = X_train.shape \n",
    "N_test,  _ = X_test.shape \n",
    "\n",
    "N_train, N_test"
   ]
  },
  {
   "cell_type": "markdown",
   "id": "0d065081",
   "metadata": {},
   "source": [
    "# 7.Классификатор ближайших соседей"
   ]
  },
  {
   "cell_type": "markdown",
   "id": "6274fa75",
   "metadata": {},
   "source": [
    "Метод k ближайших соседей kNN:"
   ]
  },
  {
   "cell_type": "code",
   "execution_count": 148,
   "id": "b0026e18",
   "metadata": {},
   "outputs": [],
   "source": [
    "from sklearn.neighbors import KNeighborsClassifier"
   ]
  },
  {
   "cell_type": "code",
   "execution_count": 149,
   "id": "7116f984",
   "metadata": {},
   "outputs": [
    {
     "data": {
      "text/plain": [
       "Text(0, 0.5, 'error')"
      ]
     },
     "execution_count": 149,
     "metadata": {},
     "output_type": "execute_result"
    },
    {
     "data": {
      "image/png": "[encoded data removed]",
      "text/plain": [
       "<Figure size 432x288 with 1 Axes>"
      ]
     },
     "metadata": {
      "needs_background": "light"
     },
     "output_type": "display_data"
    }
   ],
   "source": [
    "errors=[]\n",
    "K=np.arange(1,15)\n",
    "for k in K:\n",
    "    model= KNeighborsClassifier(k)\n",
    "    model.fit(X_train,y_train)\n",
    "    pred= model.predict(X_test)\n",
    "    error= np.mean(pred!=y_test)\n",
    "    errors.append(error)\n",
    "\n",
    "plt.plot(K,errors)\n",
    "plt.xlabel('Number of Neighbours, K')\n",
    "plt.ylabel('error')"
   ]
  },
  {
   "cell_type": "markdown",
   "id": "6f231c1b",
   "metadata": {},
   "source": [
    "Наименьшая ошибка при k=8"
   ]
  },
  {
   "cell_type": "code",
   "execution_count": 150,
   "id": "835b75ca",
   "metadata": {},
   "outputs": [
    {
     "name": "stdout",
     "output_type": "stream",
     "text": [
      "0.43043478260869567\n"
     ]
    }
   ],
   "source": [
    "model= KNeighborsClassifier(8)\n",
    "model.fit(X_train,y_train)\n",
    "pred= model.predict(X_test)\n",
    "error= np.mean(pred!=y_test)\n",
    "print(error)"
   ]
  },
  {
   "cell_type": "code",
   "execution_count": 151,
   "id": "16aa7d7f",
   "metadata": {},
   "outputs": [],
   "source": [
    "y_train_pred = model.predict(X_train)\n",
    "y_test_pred = model.predict(X_test)"
   ]
  },
  {
   "cell_type": "code",
   "execution_count": 152,
   "id": "fa67c2ba",
   "metadata": {},
   "outputs": [
    {
     "data": {
      "text/plain": [
       "695    False\n",
       "521    False\n",
       "7      False\n",
       "250     True\n",
       "155    False\n",
       "       ...  \n",
       "106     True\n",
       "270    False\n",
       "860    False\n",
       "435    False\n",
       "102    False\n",
       "Name: num, Length: 690, dtype: bool"
      ]
     },
     "execution_count": 152,
     "metadata": {},
     "output_type": "execute_result"
    }
   ],
   "source": [
    "y_train != y_train_pred"
   ]
  },
  {
   "cell_type": "code",
   "execution_count": 153,
   "id": "54d4c75b",
   "metadata": {},
   "outputs": [
    {
     "data": {
      "text/plain": [
       "319    False\n",
       "377    False\n",
       "538    False\n",
       "296     True\n",
       "531     True\n",
       "       ...  \n",
       "59     False\n",
       "657     True\n",
       "299     True\n",
       "819     True\n",
       "261     True\n",
       "Name: num, Length: 230, dtype: bool"
      ]
     },
     "execution_count": 153,
     "metadata": {},
     "output_type": "execute_result"
    }
   ],
   "source": [
    "y_test != y_test_pred"
   ]
  },
  {
   "cell_type": "code",
   "execution_count": 154,
   "id": "6e339ef4",
   "metadata": {},
   "outputs": [
    {
     "data": {
      "image/png": "[encoded data removed]",
      "text/plain": [
       "<Figure size 432x288 with 1 Axes>"
      ]
     },
     "metadata": {
      "needs_background": "light"
     },
     "output_type": "display_data"
    }
   ],
   "source": [
    "sns.countplot(x='num', data=X)\n",
    "pass"
   ]
  },
  {
   "cell_type": "markdown",
   "id": "6e32f150",
   "metadata": {},
   "source": [
    "# 8. Ошибки на тестовой и обучающей выборках"
   ]
  },
  {
   "cell_type": "code",
   "execution_count": 155,
   "id": "ff211bf7",
   "metadata": {},
   "outputs": [
    {
     "data": {
      "text/plain": [
       "(0.34492753623188405, 0.43043478260869567)"
      ]
     },
     "execution_count": 155,
     "metadata": {},
     "output_type": "execute_result"
    }
   ],
   "source": [
    "np.mean(y_train != y_train_pred), np.mean(y_test != y_test_pred)"
   ]
  },
  {
   "cell_type": "markdown",
   "id": "f5003cbf",
   "metadata": {},
   "source": [
    "Ошибка при k = 8 на обучающей выборке ~ 34%, на тестовой выборке ~ 43%"
   ]
  },
  {
   "cell_type": "markdown",
   "id": "15ec6e4a",
   "metadata": {},
   "source": [
    "Такая большая ошибка может наблюдаться в следствии того, что было очень много пропущенных значений, которые мы заменили медианой для количественных признаков и модой для категориальных признаков."
   ]
  },
  {
   "cell_type": "code",
   "execution_count": 156,
   "id": "820552bf",
   "metadata": {},
   "outputs": [
    {
     "name": "stdout",
     "output_type": "stream",
     "text": [
      "[[0.89583333 0.07291667 0.02083333 0.01041667 0.        ]\n",
      " [0.328125   0.453125   0.125      0.09375    0.        ]\n",
      " [0.09677419 0.4516129  0.32258065 0.12903226 0.        ]\n",
      " [0.3125     0.375      0.125      0.1875     0.        ]\n",
      " [0.14285714 0.14285714 0.71428571 0.         0.        ]]\n"
     ]
    }
   ],
   "source": [
    "print(confusion_matrix(y_test,model.predict(X_test),normalize='true'))"
   ]
  },
  {
   "cell_type": "code",
   "execution_count": 157,
   "id": "3cbe0f1d",
   "metadata": {},
   "outputs": [
    {
     "data": {
      "image/png": "[encoded data removed]",
      "text/plain": [
       "<Figure size 432x288 with 1 Axes>"
      ]
     },
     "metadata": {
      "needs_background": "light"
     },
     "output_type": "display_data"
    }
   ],
   "source": [
    "sns.countplot(x='num', data=X)\n",
    "pass"
   ]
  },
  {
   "cell_type": "markdown",
   "id": "1e76bb71",
   "metadata": {},
   "source": [
    "Метод опорных векторов"
   ]
  },
  {
   "cell_type": "code",
   "execution_count": 158,
   "id": "3f70115b",
   "metadata": {},
   "outputs": [
    {
     "name": "stdout",
     "output_type": "stream",
     "text": [
      "Ошибка на train:  0.25072463768115943\n",
      "Ошибка на test:  0.4782608695652174\n"
     ]
    }
   ],
   "source": [
    "svc = SVC(gamma = 'auto')\n",
    "svc.fit(X_train, y_train)\n",
    "\n",
    "err_train = np.mean(y_train != svc.predict(X_train))\n",
    "err_test  = np.mean(y_test  != svc.predict(X_test))\n",
    "\n",
    "print('Ошибка на train: ', err_train)\n",
    "print('Ошибка на test: ', err_test)\n"
   ]
  },
  {
   "cell_type": "markdown",
   "id": "965f19ed",
   "metadata": {},
   "source": [
    "Случайный лес"
   ]
  },
  {
   "cell_type": "code",
   "execution_count": 160,
   "id": "a02587b0",
   "metadata": {},
   "outputs": [
    {
     "name": "stdout",
     "output_type": "stream",
     "text": [
      "Ошибка на train:  0.0\n",
      "Ошибка на test:  0.41304347826086957\n"
     ]
    }
   ],
   "source": [
    "rf = ensemble.RandomForestClassifier(n_estimators = 100)\n",
    "rf.fit(X_train, y_train)\n",
    "\n",
    "err_train = np.mean(y_train != rf.predict(X_train))\n",
    "err_test  = np.mean(y_test  != rf.predict(X_test))\n",
    "\n",
    "print('Ошибка на train: ', err_train)\n",
    "print('Ошибка на test: ', err_test)"
   ]
  },
  {
   "cell_type": "markdown",
   "id": "7430a8a5",
   "metadata": {},
   "source": [
    "Метод главных компонент"
   ]
  },
  {
   "cell_type": "code",
   "execution_count": 161,
   "id": "7c3252cd",
   "metadata": {},
   "outputs": [
    {
     "data": {
      "text/plain": [
       "id         VA Long Beach     0.714421\n",
       "Cleveland  lv hypertrophy    0.497895\n",
       "ca         Cleveland         0.485038\n",
       "exang      asymptomatic      0.426861\n",
       "num        asymptomatic      0.424172\n",
       "Cleveland  upsloping         0.417504\n",
       "oldpeak    num               0.411588\n",
       "dtype: float64"
      ]
     },
     "execution_count": 161,
     "metadata": {},
     "output_type": "execute_result"
    }
   ],
   "source": [
    "new_data = pd.DataFrame(data = X)\n",
    "corr_mat = new_data.corr()\n",
    "corr_mat.where(np.triu(corr_mat > 0.4, k=1)).stack().sort_values(ascending = False)"
   ]
  },
  {
   "cell_type": "markdown",
   "id": "4fa3eab5",
   "metadata": {},
   "source": [
    "Объясненная дисперсия не меньше 99%"
   ]
  },
  {
   "cell_type": "code",
   "execution_count": 162,
   "id": "b8bc7938",
   "metadata": {},
   "outputs": [
    {
     "name": "stdout",
     "output_type": "stream",
     "text": [
      "(920, 28)\n",
      "(920, 2)\n"
     ]
    }
   ],
   "source": [
    "from sklearn.decomposition import PCA\n",
    "pca_model = PCA(n_components = 0.90) \n",
    "pca_model.fit(X)\n",
    "X_proj = pca_model.transform(X)\n",
    "print(X.shape)\n",
    "print(X_proj.shape)"
   ]
  },
  {
   "cell_type": "code",
   "execution_count": 163,
   "id": "4d0a4e18",
   "metadata": {},
   "outputs": [
    {
     "data": {
      "image/png": "[encoded data removed]",
      "text/plain": [
       "<Figure size 432x288 with 2 Axes>"
      ]
     },
     "metadata": {
      "needs_background": "light"
     },
     "output_type": "display_data"
    }
   ],
   "source": [
    "new_X = pd.DataFrame(data = X_proj)\n",
    "corr_mat = new_X.corr()\n",
    "sns.heatmap(corr_mat, square = True, cmap = 'Reds')\n",
    "pass"
   ]
  },
  {
   "cell_type": "code",
   "execution_count": null,
   "id": "713dec3c",
   "metadata": {},
   "outputs": [],
   "source": []
  }
 ],
 "metadata": {
  "kernelspec": {
   "display_name": "Python 3",
   "language": "python",
   "name": "python3"
  },
  "language_info": {
   "codemirror_mode": {
    "name": "ipython",
    "version": 3
   },
   "file_extension": ".py",
   "mimetype": "text/x-python",
   "name": "python",
   "nbconvert_exporter": "python",
   "pygments_lexer": "ipython3",
   "version": "3.8.8"
  }
 },
 "nbformat": 4,
 "nbformat_minor": 5
}
